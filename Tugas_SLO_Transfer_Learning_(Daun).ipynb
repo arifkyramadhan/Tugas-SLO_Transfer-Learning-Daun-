{
  "nbformat": 4,
  "nbformat_minor": 0,
  "metadata": {
    "kernelspec": {
      "name": "python3",
      "display_name": "Python 3"
    },
    "language_info": {
      "codemirror_mode": {
        "name": "ipython",
        "version": 3
      },
      "file_extension": ".py",
      "mimetype": "text/x-python",
      "name": "python",
      "nbconvert_exporter": "python",
      "pygments_lexer": "ipython3",
      "version": "3.7.4"
    },
    "colab": {
      "name": "Tugas SLO_Transfer Learning_(Daun).ipynb",
      "provenance": [],
      "collapsed_sections": [],
      "include_colab_link": true
    },
    "accelerator": "GPU"
  },
  "cells": [
    {
      "cell_type": "markdown",
      "metadata": {
        "id": "view-in-github",
        "colab_type": "text"
      },
      "source": [
        "<a href=\"https://colab.research.google.com/github/arifkyramadhan/Tugas-SLO_Transfer-Learning-Daun-/blob/main/Tugas_SLO_Transfer_Learning_(Daun).ipynb\" target=\"_parent\"><img src=\"https://colab.research.google.com/assets/colab-badge.svg\" alt=\"Open In Colab\"/></a>"
      ]
    },
    {
      "cell_type": "markdown",
      "metadata": {
        "id": "FMSfd6sZcdgh"
      },
      "source": [
        "Tidak Memakai sequential"
      ]
    },
    {
      "cell_type": "code",
      "metadata": {
        "id": "_dJvuvIBVLS_",
        "colab": {
          "base_uri": "https://localhost:8080/"
        },
        "outputId": "be68453c-69ec-4e12-ac9c-e3a6aeed6cff"
      },
      "source": [
        "from google.colab import drive\n",
        "drive.mount('/content/drive')"
      ],
      "execution_count": null,
      "outputs": [
        {
          "output_type": "stream",
          "text": [
            "Mounted at /content/drive\n"
          ],
          "name": "stdout"
        }
      ]
    },
    {
      "cell_type": "code",
      "metadata": {
        "id": "H215ikbNVVZS",
        "colab": {
          "base_uri": "https://localhost:8080/"
        },
        "outputId": "24b0366e-1063-4da4-f02d-94b36088e494"
      },
      "source": [
        "cd /content/drive/My Drive/Colab Notebooks"
      ],
      "execution_count": null,
      "outputs": [
        {
          "output_type": "stream",
          "text": [
            "/content/drive/My Drive/Colab Notebooks\n"
          ],
          "name": "stdout"
        }
      ]
    },
    {
      "cell_type": "code",
      "metadata": {
        "id": "z7VB1d4wVdov",
        "colab": {
          "base_uri": "https://localhost:8080/"
        },
        "outputId": "acebb0d6-8533-4faf-da56-1cab77cd988e"
      },
      "source": [
        "ls"
      ],
      "execution_count": null,
      "outputs": [
        {
          "output_type": "stream",
          "text": [
            " \u001b[0m\u001b[01;34m3scenes\u001b[0m/\n",
            "'Basic Python, Numpy and Matplotlib.ipynb'\n",
            " best_weight_scene_mobileNet.h5\n",
            "'Coba buka file csv.ipynb'\n",
            "'coba neural#install the dependencies !pip install kaggle.ipynb'\n",
            "'Copy of Copy of Wine(Neural Network).ipynb'\n",
            "\u001b[01;34m'Dataset daun'\u001b[0m/\n",
            " \u001b[01;34mDaun\u001b[0m/\n",
            " daun10_test.jpg\n",
            " daun11_test.jpg\n",
            " daun1_test.jpg\n",
            " daun2_test.jpg\n",
            " daun3_test.jpg\n",
            " daun4_test.jpg\n",
            " daun5_test.jpg\n",
            " daun6_test.jpg\n",
            " daun7_test.jpg\n",
            " daun8_test.jpg\n",
            " daun9_test.jpg\n",
            " daunnon_test.jpg\n",
            " daun_test.jpg\n",
            " forest_test.jpg\n",
            "'Neural (Battery).ipynb'\n",
            " \u001b[01;34mnnmodel_scene\u001b[0m/\n",
            "'scenes_nn_4 layers.ipynb'\n",
            "'Simple ANN Python (Neural Network).ipynb'\n",
            " StudentsPerformance.csv\n",
            "'Tugas Transfer Learning.ipynb'\n",
            " Untitled0.ipynb\n",
            " Untitled1.ipynb\n",
            " Untitled2.ipynb\n"
          ],
          "name": "stdout"
        }
      ]
    },
    {
      "cell_type": "code",
      "metadata": {
        "id": "5IGm26ZzVGBs"
      },
      "source": [
        "# import the necessary packages\n",
        "from keras.models import Sequential\n",
        "from keras.layers.convolutional import Conv2D\n",
        "from keras.layers.convolutional import MaxPooling2D\n",
        "from keras.layers.core import Activation\n",
        "from keras.layers.core import Flatten\n",
        "from keras.layers.core import Dense\n",
        "from keras.optimizers import Adam\n",
        "from sklearn.preprocessing import LabelBinarizer\n",
        "from sklearn.model_selection import train_test_split\n",
        "from sklearn.metrics import classification_report\n",
        "from PIL import Image\n",
        "from imutils import paths\n",
        "import numpy as np\n",
        "import os"
      ],
      "execution_count": null,
      "outputs": []
    },
    {
      "cell_type": "code",
      "metadata": {
        "id": "0-5PXYTsVGBw",
        "colab": {
          "base_uri": "https://localhost:8080/"
        },
        "outputId": "54e17776-18c1-4124-b1f2-62fc39f92741"
      },
      "source": [
        "# grab all image paths in the input dataset directory, then initialize\n",
        "# our list of images and corresponding class labels\n",
        "print(\"[INFO] loading images...\")\n",
        "imagePaths = paths.list_images(\"Daun\")\n",
        "data = []\n",
        "labels = []"
      ],
      "execution_count": null,
      "outputs": [
        {
          "output_type": "stream",
          "text": [
            "[INFO] loading images...\n"
          ],
          "name": "stdout"
        }
      ]
    },
    {
      "cell_type": "code",
      "metadata": {
        "id": "9Q-KXSsGVGB0"
      },
      "source": [
        "# loop over our input images\n",
        "for imagePath in imagePaths:\n",
        "\t# load the input image from disk, resize it to 64x64 pixels, scale\n",
        "\t# the pixel intensities to the range [0, 1], and then update our\n",
        "\t# images list\n",
        "\timage = Image.open(imagePath)\n",
        "\timage = np.array(image.resize((224, 224))) / 255.0\n",
        "\tdata.append(image)\n",
        "\n",
        "\t# extract the class label from the file path and update the\n",
        "\t# labels list\n",
        "\tlabel = imagePath.split(os.path.sep)[-2]\n",
        "\tlabels.append(label)"
      ],
      "execution_count": null,
      "outputs": []
    },
    {
      "cell_type": "code",
      "metadata": {
        "id": "Rzbolh88VGB2",
        "colab": {
          "base_uri": "https://localhost:8080/"
        },
        "outputId": "a6ca6fe6-8e48-4921-ad9c-9127c09fc455"
      },
      "source": [
        "print(labels)"
      ],
      "execution_count": null,
      "outputs": [
        {
          "output_type": "stream",
          "text": [
            "['GMB_09', 'GMB_09', 'GMB_09', 'GMB_09', 'GMB_09', 'GMB_09', 'GMB_09', 'GMB_09', 'GMB_09', 'GMB_09', 'GMB_09', 'GMB_09', 'GMB_09', 'GMB_09', 'GMB_09', 'GMB_09', 'GMB_09', 'GMB_09', 'GMB_09', 'GMB_09', 'GMB_09', 'GMB_09', 'GMB_09', 'GMB_09', 'GMB_09', 'GMB_09', 'GMB_09', 'GMB_09', 'GMB_09', 'GMB_09', 'GMB_09', 'GMB_09', 'GMB_09', 'GMB_09', 'GMB_09', 'GMB_09', 'GMB_09', 'GMB_09', 'GMB_09', 'GMB_09', 'GMB_09', 'GMB_09', 'GMB_09', 'GMB_09', 'GMB_09', 'GMB_09', 'GMB_09', 'GMB_09', 'GMB_09', 'GMB_09', 'GMB_09', 'GMB_09', 'GMB_09', 'GMB_09', 'GMB_09', 'GMB_09', 'GMB_09', 'GMB_09', 'GMB_09', 'GMB_09', 'GMB_09', 'GMB_09', 'GMB_09', 'GMB_09', 'GMB_09', 'GMB_09', 'GMB_09', 'GMB_09', 'GMB_09', 'GMB_09', 'GMB_09', 'GMB_09', 'GMB_09', 'GMB_09', 'GMB_09', 'GMB_09', 'GMB_09', 'GMB_09', 'GMB_09', 'GMB_09', 'GMB_09', 'GMB_09', 'GMB_09', 'GMB_09', 'GMB_09', 'GMB_09', 'GMB_09', 'GMB_09', 'GMB_09', 'GMB_09', 'GMB_09', 'GMB_09', 'GMB_09', 'GMB_09', 'GMB_09', 'GMB_09', 'GMB_09', 'GMB_09', 'GMB_09', 'GMB_09', 'GMB_09', 'GMB_09', 'GMB_09', 'GMB_09', 'GMB_09', 'GMB_09', 'GMB_09', 'GMB_09', 'GMB_09', 'GMB_09', 'GMB_09', 'GMB_09', 'GMB_09', 'GMB_09', 'GMB_09', 'GMB_07', 'GMB_07', 'GMB_07', 'GMB_07', 'GMB_07', 'GMB_07', 'GMB_07', 'GMB_07', 'GMB_07', 'GMB_07', 'GMB_07', 'GMB_07', 'GMB_07', 'GMB_07', 'GMB_07', 'GMB_07', 'GMB_07', 'GMB_07', 'GMB_07', 'GMB_07', 'GMB_07', 'GMB_07', 'GMB_07', 'GMB_07', 'GMB_07', 'GMB_07', 'GMB_07', 'GMB_07', 'GMB_07', 'GMB_07', 'GMB_07', 'GMB_07', 'GMB_07', 'GMB_07', 'GMB_07', 'GMB_07', 'GMB_07', 'GMB_07', 'GMB_07', 'GMB_07', 'GMB_07', 'GMB_07', 'GMB_07', 'GMB_07', 'GMB_07', 'GMB_07', 'GMB_07', 'GMB_07', 'GMB_07', 'GMB_07', 'GMB_07', 'GMB_07', 'GMB_07', 'GMB_07', 'GMB_07', 'GMB_07', 'GMB_07', 'GMB_07', 'GMB_07', 'GMB_07', 'GMB_07', 'GMB_07', 'GMB_07', 'GMB_07', 'GMB_07', 'GMB_07', 'GMB_07', 'GMB_07', 'GMB_07', 'GMB_07', 'GMB_07', 'GMB_07', 'GMB_07', 'GMB_07', 'GMB_07', 'GMB_07', 'GMB_07', 'GMB_07', 'GMB_07', 'GMB_07', 'GMB_07', 'GMB_07', 'GMB_07', 'GMB_07', 'GMB_07', 'GMB_07', 'GMB_07', 'GMB_07', 'GMB_07', 'GMB_07', 'GMB_07', 'GMB_07', 'GMB_07', 'GMB_07', 'GMB_07', 'GMB_07', 'GMB_07', 'GMB_07', 'GMB_07', 'GMB_07', 'GMB_07', 'GMB_07', 'GMB_07', 'GMB_07', 'GMB_07', 'GMB_07', 'GMB_07', 'GMB_07', 'GMB_07', 'GMB_07', 'GMB_07', 'GMB_07', 'GMB_07', 'GMB_07', 'GMB_07', 'GMB_07', 'GMB_07', 'GMB_07', 'GMB_07', 'GMB_07', 'GMB_07', 'GMB_03', 'GMB_03', 'GMB_03', 'GMB_03', 'GMB_03', 'GMB_03', 'GMB_03', 'GMB_03', 'GMB_03', 'GMB_03', 'GMB_03', 'GMB_03', 'GMB_03', 'GMB_03', 'GMB_03', 'GMB_03', 'GMB_03', 'GMB_03', 'GMB_03', 'GMB_03', 'GMB_03', 'GMB_03', 'GMB_03', 'GMB_03', 'GMB_03', 'GMB_03', 'GMB_03', 'GMB_03', 'GMB_03', 'GMB_03', 'GMB_03', 'GMB_03', 'GMB_03', 'GMB_03', 'GMB_03', 'GMB_03', 'GMB_03', 'GMB_03', 'GMB_03', 'GMB_03', 'GMB_03', 'GMB_03', 'GMB_03', 'GMB_03', 'GMB_03', 'GMB_03', 'GMB_03', 'GMB_03', 'GMB_03', 'GMB_03', 'GMB_03', 'GMB_03', 'GMB_03', 'GMB_03', 'GMB_03', 'GMB_03', 'GMB_03', 'GMB_03', 'GMB_03', 'GMB_03', 'GMB_03', 'GMB_03', 'GMB_03', 'GMB_03', 'GMB_03', 'GMB_03', 'GMB_03', 'GMB_03', 'GMB_03', 'GMB_03', 'GMB_03', 'GMB_03', 'GMB_03', 'GMB_03', 'GMB_03', 'GMB_03', 'GMB_03', 'GMB_03', 'GMB_03', 'GMB_03', 'GMB_03', 'GMB_03', 'GMB_03', 'GMB_03', 'GMB_03', 'GMB_03', 'GMB_03', 'GMB_03', 'GMB_03', 'GMB_03', 'GMB_03', 'GMB_03', 'GMB_03', 'GMB_03', 'GMB_03', 'GMB_03', 'GMB_03', 'GMB_03', 'GMB_03', 'GMB_03', 'GMB_03', 'GMB_03', 'GMB_03', 'GMB_03', 'GMB_03', 'GMB_03', 'GMB_03', 'GMB_03', 'GMB_03', 'GMB_03', 'GMB_03', 'GMB_03', 'GMB_04', 'GMB_04', 'GMB_04', 'GMB_04', 'GMB_04', 'GMB_04', 'GMB_04', 'GMB_04', 'GMB_04', 'GMB_04', 'GMB_04', 'GMB_04', 'GMB_04', 'GMB_04', 'GMB_04', 'GMB_04', 'GMB_04', 'GMB_04', 'GMB_04', 'GMB_04', 'GMB_04', 'GMB_04', 'GMB_04', 'GMB_04', 'GMB_04', 'GMB_04', 'GMB_04', 'GMB_04', 'GMB_04', 'GMB_04', 'GMB_04', 'GMB_04', 'GMB_04', 'GMB_04', 'GMB_04', 'GMB_04', 'GMB_04', 'GMB_04', 'GMB_04', 'GMB_04', 'GMB_04', 'GMB_04', 'GMB_04', 'GMB_04', 'GMB_04', 'GMB_04', 'GMB_04', 'GMB_04', 'GMB_04', 'GMB_04', 'GMB_04', 'GMB_04', 'GMB_04', 'GMB_04', 'GMB_04', 'GMB_04', 'GMB_04', 'GMB_04', 'GMB_04', 'GMB_04', 'GMB_04', 'GMB_04', 'GMB_04', 'GMB_04', 'GMB_04', 'GMB_04', 'GMB_04', 'GMB_04', 'GMB_04', 'GMB_04', 'GMB_04', 'GMB_04', 'GMB_04', 'GMB_04', 'GMB_04', 'GMB_04', 'GMB_04', 'GMB_04', 'GMB_04', 'GMB_04', 'GMB_04', 'GMB_04', 'GMB_04', 'GMB_04', 'GMB_04', 'GMB_04', 'GMB_04', 'GMB_04', 'GMB_04', 'GMB_04', 'GMB_04', 'GMB_04', 'GMB_04', 'GMB_04', 'GMB_04', 'GMB_04', 'GMB_04', 'GMB_04', 'GMB_04', 'GMB_04', 'GMB_04', 'GMB_04', 'GMB_04', 'GMB_04', 'GMB_04', 'GMB_04', 'GMB_04', 'GMB_04', 'GMB_04', 'GMB_04', 'GMB_04', 'GMB_04', 'GMB_04', 'GMB_04', 'GMB_04', 'GMB_04', 'GMB_04', 'GMB_04', 'GMB_04', 'GMB_04', 'GMB_04', 'GMB_04', 'nonGMB', 'nonGMB', 'nonGMB', 'nonGMB', 'nonGMB', 'nonGMB', 'nonGMB', 'nonGMB', 'nonGMB', 'nonGMB', 'nonGMB', 'nonGMB', 'nonGMB', 'nonGMB', 'nonGMB', 'nonGMB', 'nonGMB', 'nonGMB', 'nonGMB', 'nonGMB', 'nonGMB', 'nonGMB', 'nonGMB', 'nonGMB', 'nonGMB', 'nonGMB', 'nonGMB', 'nonGMB', 'nonGMB', 'nonGMB', 'nonGMB', 'nonGMB', 'nonGMB', 'nonGMB', 'nonGMB', 'nonGMB', 'nonGMB', 'nonGMB', 'nonGMB', 'nonGMB', 'nonGMB', 'nonGMB', 'nonGMB', 'nonGMB', 'nonGMB', 'nonGMB', 'nonGMB', 'nonGMB', 'nonGMB', 'nonGMB', 'nonGMB', 'nonGMB', 'nonGMB', 'nonGMB', 'nonGMB', 'nonGMB', 'nonGMB', 'nonGMB', 'nonGMB', 'nonGMB', 'nonGMB', 'nonGMB', 'nonGMB', 'nonGMB', 'nonGMB', 'nonGMB', 'nonGMB', 'nonGMB', 'nonGMB', 'nonGMB', 'nonGMB', 'nonGMB', 'nonGMB', 'nonGMB', 'nonGMB', 'nonGMB', 'nonGMB', 'nonGMB', 'nonGMB', 'nonGMB', 'nonGMB', 'nonGMB', 'nonGMB', 'nonGMB', 'nonGMB', 'nonGMB', 'nonGMB', 'nonGMB', 'nonGMB', 'nonGMB', 'nonGMB', 'nonGMB', 'nonGMB', 'nonGMB', 'nonGMB', 'nonGMB', 'nonGMB', 'nonGMB', 'nonGMB', 'nonGMB', 'nonGMB', 'nonGMB', 'nonGMB', 'nonGMB', 'nonGMB', 'nonGMB']\n"
          ],
          "name": "stdout"
        }
      ]
    },
    {
      "cell_type": "code",
      "metadata": {
        "id": "twd1IeuKVGB5"
      },
      "source": [
        "# encode the labels, converting them from strings to integers\n",
        "lb = LabelBinarizer()\n",
        "labels = lb.fit_transform(labels)"
      ],
      "execution_count": null,
      "outputs": []
    },
    {
      "cell_type": "code",
      "metadata": {
        "id": "5FPCyIqcVGB7",
        "colab": {
          "base_uri": "https://localhost:8080/"
        },
        "outputId": "6795ce42-fa31-4535-c228-38e1d11e0f62"
      },
      "source": [
        "print(labels)"
      ],
      "execution_count": null,
      "outputs": [
        {
          "output_type": "stream",
          "text": [
            "[[0 0 0 1 0]\n",
            " [0 0 0 1 0]\n",
            " [0 0 0 1 0]\n",
            " ...\n",
            " [0 0 0 0 1]\n",
            " [0 0 0 0 1]\n",
            " [0 0 0 0 1]]\n"
          ],
          "name": "stdout"
        }
      ]
    },
    {
      "cell_type": "code",
      "metadata": {
        "id": "ktZ5hNYwVGB9",
        "colab": {
          "base_uri": "https://localhost:8080/"
        },
        "outputId": "64c8184e-0f77-4f41-914f-6aedfeb78914"
      },
      "source": [
        "# perform a training and testing split, using 75% of the data for\n",
        "# training and 25% for evaluation\n",
        "(trainX, testX, trainY, testY) = train_test_split(np.array(data),\tnp.array(labels), test_size=0.30)\n",
        "print(trainX.shape)\n",
        "print(testX.shape)"
      ],
      "execution_count": null,
      "outputs": [
        {
          "output_type": "stream",
          "text": [
            "(403, 224, 224, 3)\n",
            "(173, 224, 224, 3)\n"
          ],
          "name": "stdout"
        }
      ]
    },
    {
      "cell_type": "code",
      "metadata": {
        "id": "-1LK97ZhDrRZ"
      },
      "source": [
        "from keras.applications.mobilenet import MobileNet\n",
        "from keras.callbacks import EarlyStopping, ModelCheckpoint\n",
        "from keras.models import Model\n",
        "from keras.layers import GlobalAveragePooling2D, BatchNormalization"
      ],
      "execution_count": null,
      "outputs": []
    },
    {
      "cell_type": "code",
      "metadata": {
        "id": "1gv-u7AfEBQg",
        "colab": {
          "base_uri": "https://localhost:8080/"
        },
        "outputId": "121375aa-b020-4a61-fa41-731403e8ab5c"
      },
      "source": [
        "from keras.layers import Dropout\n",
        "base_model = MobileNet(weights='imagenet', include_top=False)\n",
        "x = base_model.output\n",
        "x = GlobalAveragePooling2D()(x)\n",
        "x = Dropout(0.5)(x)\n",
        "x = BatchNormalization()(x)\n",
        "x = Dense(500, activation='relu')(x)\n",
        "out = Dense(5, activation='softmax')(x)\n",
        "\n",
        "model = Model(inputs=base_model.input, outputs=out)\n",
        "model.summary()"
      ],
      "execution_count": null,
      "outputs": [
        {
          "output_type": "stream",
          "text": [
            "WARNING:tensorflow:`input_shape` is undefined or non-square, or `rows` is not in [128, 160, 192, 224]. Weights for input shape (224, 224) will be loaded as the default.\n",
            "Model: \"functional_3\"\n",
            "_________________________________________________________________\n",
            "Layer (type)                 Output Shape              Param #   \n",
            "=================================================================\n",
            "input_2 (InputLayer)         [(None, None, None, 3)]   0         \n",
            "_________________________________________________________________\n",
            "conv1_pad (ZeroPadding2D)    (None, None, None, 3)     0         \n",
            "_________________________________________________________________\n",
            "conv1 (Conv2D)               (None, None, None, 32)    864       \n",
            "_________________________________________________________________\n",
            "conv1_bn (BatchNormalization (None, None, None, 32)    128       \n",
            "_________________________________________________________________\n",
            "conv1_relu (ReLU)            (None, None, None, 32)    0         \n",
            "_________________________________________________________________\n",
            "conv_dw_1 (DepthwiseConv2D)  (None, None, None, 32)    288       \n",
            "_________________________________________________________________\n",
            "conv_dw_1_bn (BatchNormaliza (None, None, None, 32)    128       \n",
            "_________________________________________________________________\n",
            "conv_dw_1_relu (ReLU)        (None, None, None, 32)    0         \n",
            "_________________________________________________________________\n",
            "conv_pw_1 (Conv2D)           (None, None, None, 64)    2048      \n",
            "_________________________________________________________________\n",
            "conv_pw_1_bn (BatchNormaliza (None, None, None, 64)    256       \n",
            "_________________________________________________________________\n",
            "conv_pw_1_relu (ReLU)        (None, None, None, 64)    0         \n",
            "_________________________________________________________________\n",
            "conv_pad_2 (ZeroPadding2D)   (None, None, None, 64)    0         \n",
            "_________________________________________________________________\n",
            "conv_dw_2 (DepthwiseConv2D)  (None, None, None, 64)    576       \n",
            "_________________________________________________________________\n",
            "conv_dw_2_bn (BatchNormaliza (None, None, None, 64)    256       \n",
            "_________________________________________________________________\n",
            "conv_dw_2_relu (ReLU)        (None, None, None, 64)    0         \n",
            "_________________________________________________________________\n",
            "conv_pw_2 (Conv2D)           (None, None, None, 128)   8192      \n",
            "_________________________________________________________________\n",
            "conv_pw_2_bn (BatchNormaliza (None, None, None, 128)   512       \n",
            "_________________________________________________________________\n",
            "conv_pw_2_relu (ReLU)        (None, None, None, 128)   0         \n",
            "_________________________________________________________________\n",
            "conv_dw_3 (DepthwiseConv2D)  (None, None, None, 128)   1152      \n",
            "_________________________________________________________________\n",
            "conv_dw_3_bn (BatchNormaliza (None, None, None, 128)   512       \n",
            "_________________________________________________________________\n",
            "conv_dw_3_relu (ReLU)        (None, None, None, 128)   0         \n",
            "_________________________________________________________________\n",
            "conv_pw_3 (Conv2D)           (None, None, None, 128)   16384     \n",
            "_________________________________________________________________\n",
            "conv_pw_3_bn (BatchNormaliza (None, None, None, 128)   512       \n",
            "_________________________________________________________________\n",
            "conv_pw_3_relu (ReLU)        (None, None, None, 128)   0         \n",
            "_________________________________________________________________\n",
            "conv_pad_4 (ZeroPadding2D)   (None, None, None, 128)   0         \n",
            "_________________________________________________________________\n",
            "conv_dw_4 (DepthwiseConv2D)  (None, None, None, 128)   1152      \n",
            "_________________________________________________________________\n",
            "conv_dw_4_bn (BatchNormaliza (None, None, None, 128)   512       \n",
            "_________________________________________________________________\n",
            "conv_dw_4_relu (ReLU)        (None, None, None, 128)   0         \n",
            "_________________________________________________________________\n",
            "conv_pw_4 (Conv2D)           (None, None, None, 256)   32768     \n",
            "_________________________________________________________________\n",
            "conv_pw_4_bn (BatchNormaliza (None, None, None, 256)   1024      \n",
            "_________________________________________________________________\n",
            "conv_pw_4_relu (ReLU)        (None, None, None, 256)   0         \n",
            "_________________________________________________________________\n",
            "conv_dw_5 (DepthwiseConv2D)  (None, None, None, 256)   2304      \n",
            "_________________________________________________________________\n",
            "conv_dw_5_bn (BatchNormaliza (None, None, None, 256)   1024      \n",
            "_________________________________________________________________\n",
            "conv_dw_5_relu (ReLU)        (None, None, None, 256)   0         \n",
            "_________________________________________________________________\n",
            "conv_pw_5 (Conv2D)           (None, None, None, 256)   65536     \n",
            "_________________________________________________________________\n",
            "conv_pw_5_bn (BatchNormaliza (None, None, None, 256)   1024      \n",
            "_________________________________________________________________\n",
            "conv_pw_5_relu (ReLU)        (None, None, None, 256)   0         \n",
            "_________________________________________________________________\n",
            "conv_pad_6 (ZeroPadding2D)   (None, None, None, 256)   0         \n",
            "_________________________________________________________________\n",
            "conv_dw_6 (DepthwiseConv2D)  (None, None, None, 256)   2304      \n",
            "_________________________________________________________________\n",
            "conv_dw_6_bn (BatchNormaliza (None, None, None, 256)   1024      \n",
            "_________________________________________________________________\n",
            "conv_dw_6_relu (ReLU)        (None, None, None, 256)   0         \n",
            "_________________________________________________________________\n",
            "conv_pw_6 (Conv2D)           (None, None, None, 512)   131072    \n",
            "_________________________________________________________________\n",
            "conv_pw_6_bn (BatchNormaliza (None, None, None, 512)   2048      \n",
            "_________________________________________________________________\n",
            "conv_pw_6_relu (ReLU)        (None, None, None, 512)   0         \n",
            "_________________________________________________________________\n",
            "conv_dw_7 (DepthwiseConv2D)  (None, None, None, 512)   4608      \n",
            "_________________________________________________________________\n",
            "conv_dw_7_bn (BatchNormaliza (None, None, None, 512)   2048      \n",
            "_________________________________________________________________\n",
            "conv_dw_7_relu (ReLU)        (None, None, None, 512)   0         \n",
            "_________________________________________________________________\n",
            "conv_pw_7 (Conv2D)           (None, None, None, 512)   262144    \n",
            "_________________________________________________________________\n",
            "conv_pw_7_bn (BatchNormaliza (None, None, None, 512)   2048      \n",
            "_________________________________________________________________\n",
            "conv_pw_7_relu (ReLU)        (None, None, None, 512)   0         \n",
            "_________________________________________________________________\n",
            "conv_dw_8 (DepthwiseConv2D)  (None, None, None, 512)   4608      \n",
            "_________________________________________________________________\n",
            "conv_dw_8_bn (BatchNormaliza (None, None, None, 512)   2048      \n",
            "_________________________________________________________________\n",
            "conv_dw_8_relu (ReLU)        (None, None, None, 512)   0         \n",
            "_________________________________________________________________\n",
            "conv_pw_8 (Conv2D)           (None, None, None, 512)   262144    \n",
            "_________________________________________________________________\n",
            "conv_pw_8_bn (BatchNormaliza (None, None, None, 512)   2048      \n",
            "_________________________________________________________________\n",
            "conv_pw_8_relu (ReLU)        (None, None, None, 512)   0         \n",
            "_________________________________________________________________\n",
            "conv_dw_9 (DepthwiseConv2D)  (None, None, None, 512)   4608      \n",
            "_________________________________________________________________\n",
            "conv_dw_9_bn (BatchNormaliza (None, None, None, 512)   2048      \n",
            "_________________________________________________________________\n",
            "conv_dw_9_relu (ReLU)        (None, None, None, 512)   0         \n",
            "_________________________________________________________________\n",
            "conv_pw_9 (Conv2D)           (None, None, None, 512)   262144    \n",
            "_________________________________________________________________\n",
            "conv_pw_9_bn (BatchNormaliza (None, None, None, 512)   2048      \n",
            "_________________________________________________________________\n",
            "conv_pw_9_relu (ReLU)        (None, None, None, 512)   0         \n",
            "_________________________________________________________________\n",
            "conv_dw_10 (DepthwiseConv2D) (None, None, None, 512)   4608      \n",
            "_________________________________________________________________\n",
            "conv_dw_10_bn (BatchNormaliz (None, None, None, 512)   2048      \n",
            "_________________________________________________________________\n",
            "conv_dw_10_relu (ReLU)       (None, None, None, 512)   0         \n",
            "_________________________________________________________________\n",
            "conv_pw_10 (Conv2D)          (None, None, None, 512)   262144    \n",
            "_________________________________________________________________\n",
            "conv_pw_10_bn (BatchNormaliz (None, None, None, 512)   2048      \n",
            "_________________________________________________________________\n",
            "conv_pw_10_relu (ReLU)       (None, None, None, 512)   0         \n",
            "_________________________________________________________________\n",
            "conv_dw_11 (DepthwiseConv2D) (None, None, None, 512)   4608      \n",
            "_________________________________________________________________\n",
            "conv_dw_11_bn (BatchNormaliz (None, None, None, 512)   2048      \n",
            "_________________________________________________________________\n",
            "conv_dw_11_relu (ReLU)       (None, None, None, 512)   0         \n",
            "_________________________________________________________________\n",
            "conv_pw_11 (Conv2D)          (None, None, None, 512)   262144    \n",
            "_________________________________________________________________\n",
            "conv_pw_11_bn (BatchNormaliz (None, None, None, 512)   2048      \n",
            "_________________________________________________________________\n",
            "conv_pw_11_relu (ReLU)       (None, None, None, 512)   0         \n",
            "_________________________________________________________________\n",
            "conv_pad_12 (ZeroPadding2D)  (None, None, None, 512)   0         \n",
            "_________________________________________________________________\n",
            "conv_dw_12 (DepthwiseConv2D) (None, None, None, 512)   4608      \n",
            "_________________________________________________________________\n",
            "conv_dw_12_bn (BatchNormaliz (None, None, None, 512)   2048      \n",
            "_________________________________________________________________\n",
            "conv_dw_12_relu (ReLU)       (None, None, None, 512)   0         \n",
            "_________________________________________________________________\n",
            "conv_pw_12 (Conv2D)          (None, None, None, 1024)  524288    \n",
            "_________________________________________________________________\n",
            "conv_pw_12_bn (BatchNormaliz (None, None, None, 1024)  4096      \n",
            "_________________________________________________________________\n",
            "conv_pw_12_relu (ReLU)       (None, None, None, 1024)  0         \n",
            "_________________________________________________________________\n",
            "conv_dw_13 (DepthwiseConv2D) (None, None, None, 1024)  9216      \n",
            "_________________________________________________________________\n",
            "conv_dw_13_bn (BatchNormaliz (None, None, None, 1024)  4096      \n",
            "_________________________________________________________________\n",
            "conv_dw_13_relu (ReLU)       (None, None, None, 1024)  0         \n",
            "_________________________________________________________________\n",
            "conv_pw_13 (Conv2D)          (None, None, None, 1024)  1048576   \n",
            "_________________________________________________________________\n",
            "conv_pw_13_bn (BatchNormaliz (None, None, None, 1024)  4096      \n",
            "_________________________________________________________________\n",
            "conv_pw_13_relu (ReLU)       (None, None, None, 1024)  0         \n",
            "_________________________________________________________________\n",
            "global_average_pooling2d_1 ( (None, 1024)              0         \n",
            "_________________________________________________________________\n",
            "dropout_1 (Dropout)          (None, 1024)              0         \n",
            "_________________________________________________________________\n",
            "batch_normalization_1 (Batch (None, 1024)              4096      \n",
            "_________________________________________________________________\n",
            "dense_2 (Dense)              (None, 500)               512500    \n",
            "_________________________________________________________________\n",
            "dense_3 (Dense)              (None, 5)                 2505      \n",
            "=================================================================\n",
            "Total params: 3,747,965\n",
            "Trainable params: 3,724,029\n",
            "Non-trainable params: 23,936\n",
            "_________________________________________________________________\n"
          ],
          "name": "stdout"
        }
      ]
    },
    {
      "cell_type": "code",
      "metadata": {
        "id": "6gVx0PzEF5p2"
      },
      "source": [
        "es = EarlyStopping(monitor='val_loss',\n",
        "                   patience=5,\n",
        "                   mode='auto',\n",
        "                   restore_best_weights=True)\n",
        "checkpoint = ModelCheckpoint('best_weight_scene_mobileNet.h5',\n",
        "                             monitor='val_accuracy',\n",
        "                             verbose=1,\n",
        "                             save_best_only=True,\n",
        "                             mode='auto',)\n"
      ],
      "execution_count": null,
      "outputs": []
    },
    {
      "cell_type": "code",
      "metadata": {
        "scrolled": true,
        "id": "ggcSdj_aVGCB",
        "colab": {
          "base_uri": "https://localhost:8080/"
        },
        "outputId": "69120d4d-6fbe-4f48-ea80-1ac1a7a6dbf3"
      },
      "source": [
        "# train the model using the Adam optimizer\n",
        "print(\"[INFO] training network...\")\n",
        "opt = Adam(lr=1e-3, decay=1e-3 / 50)\n",
        "model.compile(loss=\"categorical_crossentropy\", optimizer=opt,\n",
        "\tmetrics=[\"accuracy\"])\n",
        "H = model.fit(trainX, trainY, validation_data=(testX, testY), epochs=20, batch_size=16, callbacks=[es, checkpoint])"
      ],
      "execution_count": null,
      "outputs": [
        {
          "output_type": "stream",
          "text": [
            "[INFO] training network...\n",
            "Epoch 1/20\n",
            "26/26 [==============================] - ETA: 0s - loss: 0.7223 - accuracy: 0.7270\n",
            "Epoch 00001: val_accuracy improved from -inf to 0.29480, saving model to best_weight_scene_mobileNet.h5\n",
            "26/26 [==============================] - 81s 3s/step - loss: 0.7223 - accuracy: 0.7270 - val_loss: 7.0048 - val_accuracy: 0.2948\n",
            "Epoch 2/20\n",
            "26/26 [==============================] - ETA: 0s - loss: 0.3849 - accuracy: 0.8710\n",
            "Epoch 00002: val_accuracy improved from 0.29480 to 0.34104, saving model to best_weight_scene_mobileNet.h5\n",
            "26/26 [==============================] - 80s 3s/step - loss: 0.3849 - accuracy: 0.8710 - val_loss: 5.0607 - val_accuracy: 0.3410\n",
            "Epoch 3/20\n",
            "26/26 [==============================] - ETA: 0s - loss: 0.4537 - accuracy: 0.8983\n",
            "Epoch 00003: val_accuracy improved from 0.34104 to 0.43353, saving model to best_weight_scene_mobileNet.h5\n",
            "26/26 [==============================] - 80s 3s/step - loss: 0.4537 - accuracy: 0.8983 - val_loss: 4.8397 - val_accuracy: 0.4335\n",
            "Epoch 4/20\n",
            "26/26 [==============================] - ETA: 0s - loss: 0.3010 - accuracy: 0.9107\n",
            "Epoch 00004: val_accuracy improved from 0.43353 to 0.49133, saving model to best_weight_scene_mobileNet.h5\n",
            "26/26 [==============================] - 80s 3s/step - loss: 0.3010 - accuracy: 0.9107 - val_loss: 4.8409 - val_accuracy: 0.4913\n",
            "Epoch 5/20\n",
            "26/26 [==============================] - ETA: 0s - loss: 0.2331 - accuracy: 0.9280\n",
            "Epoch 00005: val_accuracy improved from 0.49133 to 0.65318, saving model to best_weight_scene_mobileNet.h5\n",
            "26/26 [==============================] - 81s 3s/step - loss: 0.2331 - accuracy: 0.9280 - val_loss: 2.1072 - val_accuracy: 0.6532\n",
            "Epoch 6/20\n",
            "26/26 [==============================] - ETA: 0s - loss: 0.2034 - accuracy: 0.9479\n",
            "Epoch 00006: val_accuracy improved from 0.65318 to 0.74566, saving model to best_weight_scene_mobileNet.h5\n",
            "26/26 [==============================] - 80s 3s/step - loss: 0.2034 - accuracy: 0.9479 - val_loss: 1.6502 - val_accuracy: 0.7457\n",
            "Epoch 7/20\n",
            "26/26 [==============================] - ETA: 0s - loss: 0.2438 - accuracy: 0.9330\n",
            "Epoch 00007: val_accuracy did not improve from 0.74566\n",
            "26/26 [==============================] - 81s 3s/step - loss: 0.2438 - accuracy: 0.9330 - val_loss: 1.7758 - val_accuracy: 0.7052\n",
            "Epoch 8/20\n",
            "26/26 [==============================] - ETA: 0s - loss: 0.2102 - accuracy: 0.9603\n",
            "Epoch 00008: val_accuracy improved from 0.74566 to 0.87283, saving model to best_weight_scene_mobileNet.h5\n",
            "26/26 [==============================] - 80s 3s/step - loss: 0.2102 - accuracy: 0.9603 - val_loss: 0.6694 - val_accuracy: 0.8728\n",
            "Epoch 9/20\n",
            "26/26 [==============================] - ETA: 0s - loss: 0.1967 - accuracy: 0.9429\n",
            "Epoch 00009: val_accuracy did not improve from 0.87283\n",
            "26/26 [==============================] - 80s 3s/step - loss: 0.1967 - accuracy: 0.9429 - val_loss: 5.4580 - val_accuracy: 0.4509\n",
            "Epoch 10/20\n",
            "26/26 [==============================] - ETA: 0s - loss: 0.1406 - accuracy: 0.9752\n",
            "Epoch 00010: val_accuracy did not improve from 0.87283\n",
            "26/26 [==============================] - 79s 3s/step - loss: 0.1406 - accuracy: 0.9752 - val_loss: 3.6631 - val_accuracy: 0.6647\n",
            "Epoch 11/20\n",
            "26/26 [==============================] - ETA: 0s - loss: 0.2662 - accuracy: 0.9330\n",
            "Epoch 00011: val_accuracy did not improve from 0.87283\n",
            "26/26 [==============================] - 79s 3s/step - loss: 0.2662 - accuracy: 0.9330 - val_loss: 1.0969 - val_accuracy: 0.8728\n",
            "Epoch 12/20\n",
            "26/26 [==============================] - ETA: 0s - loss: 0.2156 - accuracy: 0.9429\n",
            "Epoch 00012: val_accuracy did not improve from 0.87283\n",
            "26/26 [==============================] - 79s 3s/step - loss: 0.2156 - accuracy: 0.9429 - val_loss: 1.4089 - val_accuracy: 0.8439\n",
            "Epoch 13/20\n",
            "26/26 [==============================] - ETA: 0s - loss: 0.1462 - accuracy: 0.9553\n",
            "Epoch 00013: val_accuracy did not improve from 0.87283\n",
            "26/26 [==============================] - 79s 3s/step - loss: 0.1462 - accuracy: 0.9553 - val_loss: 3.0470 - val_accuracy: 0.6705\n"
          ],
          "name": "stdout"
        }
      ]
    },
    {
      "cell_type": "code",
      "metadata": {
        "id": "98_oXi-lcgux",
        "colab": {
          "base_uri": "https://localhost:8080/",
          "height": 590
        },
        "outputId": "2adb6eb4-7ddc-43d4-b7fa-c34f2d73bb63"
      },
      "source": [
        "import matplotlib.pyplot as plt\n",
        "\n",
        "print(H.history.keys())\n",
        "# summarize history for accuracy\n",
        "plt.plot(H.history['accuracy'])\n",
        "plt.plot(H.history['val_accuracy'])\n",
        "plt.title('model accuracy')\n",
        "plt.ylabel('accuracy')\n",
        "plt.xlabel('epoch')\n",
        "plt.legend(['train', 'test'], loc='upper left')\n",
        "plt.show()\n",
        "# summarize history for loss\n",
        "plt.plot(H.history['loss'])\n",
        "plt.plot(H.history['val_loss'])\n",
        "plt.title('model loss')\n",
        "plt.ylabel('loss')\n",
        "plt.xlabel('epoch')\n",
        "plt.legend(['train', 'test'], loc='upper left')\n",
        "plt.show()"
      ],
      "execution_count": null,
      "outputs": [
        {
          "output_type": "stream",
          "text": [
            "dict_keys(['loss', 'accuracy', 'val_loss', 'val_accuracy'])\n"
          ],
          "name": "stdout"
        },
        {
          "output_type": "display_data",
          "data": {
            "image/png": "[encoded data removed]",
            "text/plain": [
              "<Figure size 432x288 with 1 Axes>"
            ]
          },
          "metadata": {
            "tags": [],
            "needs_background": "light"
          }
        },
        {
          "output_type": "display_data",
          "data": {
            "image/png": "[encoded data removed]",
            "text/plain": [
              "<Figure size 432x288 with 1 Axes>"
            ]
          },
          "metadata": {
            "tags": [],
            "needs_background": "light"
          }
        }
      ]
    },
    {
      "cell_type": "code",
      "metadata": {
        "id": "lPAZkmBJVGCD",
        "colab": {
          "base_uri": "https://localhost:8080/"
        },
        "outputId": "94154d2b-caf5-4030-edf2-adf4f82ec047"
      },
      "source": [
        "# evaluate the network\n",
        "print(\"[INFO] evaluating network...\")\n",
        "predictions = model.predict(testX, batch_size=32)\n",
        "print(predictions)"
      ],
      "execution_count": null,
      "outputs": [
        {
          "output_type": "stream",
          "text": [
            "[INFO] evaluating network...\n",
            "[[9.81363948e-11 9.99459922e-01 2.62620620e-06 1.12474507e-09\n",
            "  5.37498854e-04]\n",
            " [5.34470385e-12 7.13414093e-03 1.81200521e-05 2.28347767e-06\n",
            "  9.92845476e-01]\n",
            " [8.44537079e-01 4.89763392e-04 1.80502087e-02 1.33542255e-01\n",
            "  3.38057661e-03]\n",
            " [1.33985031e-10 9.99483705e-01 3.59064938e-06 1.24072519e-09\n",
            "  5.12712053e-04]\n",
            " [4.90694454e-08 3.65314736e-05 5.68331197e-05 4.26915794e-05\n",
            "  9.99863863e-01]\n",
            " [5.68050440e-10 4.89705615e-02 1.68457557e-03 4.69716906e-05\n",
            "  9.49297845e-01]\n",
            " [1.24213073e-09 5.24637813e-04 9.95764852e-01 2.55489047e-03\n",
            "  1.15561357e-03]\n",
            " [1.81845987e-08 6.76274158e-06 3.19543149e-04 9.99670148e-01\n",
            "  3.56439750e-06]\n",
            " [3.35387412e-10 1.14659309e-01 5.02398962e-06 3.04530067e-06\n",
            "  8.85332644e-01]\n",
            " [3.47238540e-07 8.56127441e-02 8.88274789e-01 3.84088480e-06\n",
            "  2.61082705e-02]\n",
            " [9.98092234e-01 1.19119250e-06 6.69592919e-05 1.83724973e-03\n",
            "  2.42341139e-06]\n",
            " [8.29986340e-12 2.88285734e-03 7.32971675e-05 3.59581441e-06\n",
            "  9.97040212e-01]\n",
            " [2.58026267e-10 9.99303341e-01 2.10152143e-06 1.82482973e-09\n",
            "  6.94518443e-04]\n",
            " [1.36747136e-09 6.33758305e-07 6.36820641e-06 9.99992967e-01\n",
            "  1.28013777e-08]\n",
            " [3.55900065e-09 8.06882307e-02 8.61633718e-01 5.76543100e-02\n",
            "  2.37017066e-05]\n",
            " [2.86928116e-06 2.84332540e-02 8.34784806e-01 2.99008789e-05\n",
            "  1.36749223e-01]\n",
            " [3.92997971e-13 4.53097151e-08 7.14948740e-08 9.99999881e-01\n",
            "  5.88534152e-11]\n",
            " [8.39609545e-12 4.88217665e-07 1.59431366e-08 9.99999523e-01\n",
            "  1.70513770e-10]\n",
            " [1.20002923e-11 2.22448204e-02 1.73218286e-04 1.93805079e-07\n",
            "  9.77581799e-01]\n",
            " [1.74178592e-08 1.24963035e-05 8.07995893e-05 9.99903202e-01\n",
            "  3.49449738e-06]\n",
            " [5.62011679e-12 9.99994397e-01 7.03540252e-07 1.40608553e-10\n",
            "  4.86319004e-06]\n",
            " [1.66302584e-07 7.86005631e-02 9.20544982e-01 1.95855555e-05\n",
            "  8.34770559e-04]\n",
            " [3.01289799e-10 3.59839198e-08 1.65616279e-06 9.99998331e-01\n",
            "  2.07608419e-09]\n",
            " [7.16889943e-08 4.37618844e-04 9.90662634e-01 7.47546414e-03\n",
            "  1.42420444e-03]\n",
            " [1.62224609e-11 1.63333816e-03 2.43933155e-05 4.95256108e-06\n",
            "  9.98337269e-01]\n",
            " [9.10485021e-09 9.99796927e-01 1.74268251e-04 3.24142729e-06\n",
            "  2.56208423e-05]\n",
            " [9.72232694e-09 4.64109507e-06 3.18822713e-04 2.51452479e-06\n",
            "  9.99674082e-01]\n",
            " [6.83812382e-11 9.99812305e-01 1.13618808e-06 2.98296809e-09\n",
            "  1.86487450e-04]\n",
            " [8.54464546e-02 8.26644480e-01 6.45210210e-04 8.72638151e-02\n",
            "  5.72318370e-08]\n",
            " [4.47103769e-12 9.99907732e-01 2.56390813e-05 2.95714784e-07\n",
            "  6.63430910e-05]\n",
            " [8.54452011e-08 1.55215123e-04 9.99496579e-01 7.59512568e-06\n",
            "  3.40470113e-04]\n",
            " [2.98305616e-11 2.34565096e-06 2.40955899e-07 5.60894371e-08\n",
            "  9.99997377e-01]\n",
            " [8.95962273e-08 1.77969262e-02 9.82202888e-01 2.30129356e-08\n",
            "  1.55769385e-07]\n",
            " [7.43923279e-09 7.72392411e-07 7.56330201e-06 9.99991655e-01\n",
            "  8.24326474e-09]\n",
            " [6.97135600e-13 9.09249007e-04 1.72543480e-07 5.23358579e-10\n",
            "  9.99090552e-01]\n",
            " [2.59478576e-03 9.97404993e-01 2.79724688e-09 4.46021042e-09\n",
            "  1.86909006e-07]\n",
            " [1.40407879e-03 9.91363645e-01 7.17223249e-03 5.46898991e-05\n",
            "  5.31569322e-06]\n",
            " [2.59149591e-10 9.72618818e-01 1.42571121e-03 3.22685656e-09\n",
            "  2.59554535e-02]\n",
            " [1.70796067e-02 9.65229392e-01 2.36126376e-04 1.74492989e-02\n",
            "  5.66352855e-06]\n",
            " [3.40693118e-03 9.92451727e-01 4.00384096e-03 7.48165112e-05\n",
            "  6.27122863e-05]\n",
            " [3.10690366e-02 9.68930304e-01 3.50612979e-08 8.66953229e-08\n",
            "  5.60745434e-07]\n",
            " [3.11459360e-07 1.96516871e-01 7.90132821e-01 1.57604087e-03\n",
            "  1.17739439e-02]\n",
            " [4.27984633e-13 2.61911773e-04 9.99728620e-01 2.86158042e-11\n",
            "  9.41922008e-06]\n",
            " [5.47391559e-13 2.38720127e-10 8.12243495e-10 1.00000000e+00\n",
            "  1.91786267e-14]\n",
            " [5.80290698e-13 9.99999881e-01 6.00141732e-08 9.07803520e-12\n",
            "  3.66139972e-08]\n",
            " [8.12218071e-11 9.99713600e-01 1.06292362e-06 1.81649862e-10\n",
            "  2.85363349e-04]\n",
            " [1.18713741e-08 2.03854303e-04 4.16111288e-05 9.99740660e-01\n",
            "  1.38787182e-05]\n",
            " [8.22406553e-12 4.51759389e-03 3.36821613e-05 9.30847818e-07\n",
            "  9.95447814e-01]\n",
            " [8.67888084e-15 1.41672842e-08 1.00000000e+00 8.07204347e-13\n",
            "  2.82810732e-12]\n",
            " [2.81298251e-09 1.91164098e-08 2.24478867e-06 9.99997735e-01\n",
            "  1.73823911e-09]\n",
            " [1.42645405e-07 2.12940940e-05 4.06233454e-03 1.24921605e-01\n",
            "  8.70994568e-01]\n",
            " [3.71216391e-11 9.99799550e-01 6.31265038e-06 1.02049915e-08\n",
            "  1.94144173e-04]\n",
            " [2.74983508e-11 7.73929944e-03 1.65433812e-06 2.73054823e-08\n",
            "  9.92258966e-01]\n",
            " [3.56071417e-09 6.93174911e-07 3.88754343e-05 9.99959469e-01\n",
            "  9.13111535e-07]\n",
            " [8.54591120e-11 9.92036521e-01 5.22989896e-04 1.41250894e-06\n",
            "  7.43912766e-03]\n",
            " [2.61166061e-10 4.24288510e-06 6.07712821e-07 9.99994159e-01\n",
            "  9.73720830e-07]\n",
            " [9.40270778e-12 9.99994993e-01 4.71124440e-06 4.12938661e-09\n",
            "  2.33915046e-07]\n",
            " [5.22093341e-11 5.95953539e-02 5.47671516e-06 1.61865444e-06\n",
            "  9.40397620e-01]\n",
            " [8.99363917e-12 1.32602139e-03 8.47966367e-05 1.59425053e-06\n",
            "  9.98587608e-01]\n",
            " [1.04205078e-02 9.89571095e-01 5.72549880e-07 5.46528690e-06\n",
            "  2.37161021e-06]\n",
            " [2.23918032e-05 3.53831588e-03 8.89955580e-01 5.98134380e-03\n",
            "  1.00502416e-01]\n",
            " [7.99957919e-13 5.33350918e-04 1.56353235e-05 7.05632317e-08\n",
            "  9.99450982e-01]\n",
            " [8.18107582e-10 9.99236465e-01 4.50470361e-06 7.32485739e-10\n",
            "  7.59070215e-04]\n",
            " [1.46945499e-15 2.61256545e-08 1.00000000e+00 1.10071064e-13\n",
            "  1.43856944e-08]\n",
            " [6.24505281e-01 2.76384205e-01 4.78221482e-05 9.90627706e-02\n",
            "  1.46965800e-08]\n",
            " [1.32985634e-09 1.88237414e-01 4.48185427e-04 8.69130134e-04\n",
            "  8.10445309e-01]\n",
            " [7.97696318e-03 9.92017150e-01 2.05849453e-08 1.10500281e-07\n",
            "  5.76925595e-06]\n",
            " [6.04712374e-12 9.99993920e-01 7.74023405e-08 1.08999580e-11\n",
            "  5.93224468e-06]\n",
            " [2.87075945e-08 3.65203123e-05 4.94854338e-02 1.68721415e-02\n",
            "  9.33605909e-01]\n",
            " [2.11575579e-09 1.38666853e-02 9.86114860e-01 1.03755184e-07\n",
            "  1.83356278e-05]\n",
            " [1.29483846e-11 9.90250826e-01 5.31915925e-04 6.79147320e-07\n",
            "  9.21652745e-03]\n",
            " [4.14155155e-10 9.98964548e-01 3.17577428e-06 3.69493125e-09\n",
            "  1.03224348e-03]\n",
            " [5.17843544e-01 4.82152343e-01 1.51300526e-07 7.57470730e-07\n",
            "  3.18410252e-06]\n",
            " [4.19061626e-11 4.53947438e-03 1.66129356e-03 2.11168367e-06\n",
            "  9.93797183e-01]\n",
            " [1.03620057e-09 4.33906680e-03 9.95642543e-01 6.44937899e-08\n",
            "  1.82220683e-05]\n",
            " [2.35487628e-12 3.88545195e-05 9.99961138e-01 8.72573194e-11\n",
            "  1.39128187e-09]\n",
            " [2.94911273e-09 8.93540263e-01 1.34451839e-04 6.52503455e-03\n",
            "  9.98002738e-02]\n",
            " [4.34972804e-12 3.03194160e-03 7.39760362e-05 1.94572451e-07\n",
            "  9.96893883e-01]\n",
            " [9.99898553e-01 3.47462219e-06 3.27674788e-05 6.49780704e-05\n",
            "  2.67119191e-07]\n",
            " [2.29400210e-03 9.84761834e-01 3.15089640e-03 9.79069714e-03\n",
            "  2.61623245e-06]\n",
            " [1.00956968e-11 4.31049157e-05 9.99956727e-01 1.11251964e-07\n",
            "  7.11698522e-09]\n",
            " [3.78710847e-11 9.99985218e-01 6.87655984e-07 4.17074847e-11\n",
            "  1.40091634e-05]\n",
            " [2.43840365e-10 1.54981535e-04 6.47608033e-07 9.99844313e-01\n",
            "  1.96625880e-08]\n",
            " [7.87414294e-08 1.21151115e-05 1.26838686e-05 8.28762404e-06\n",
            "  9.99966860e-01]\n",
            " [1.60619677e-11 9.99997735e-01 2.09265636e-06 3.09304182e-09\n",
            "  1.60543422e-07]\n",
            " [1.50100359e-08 2.70078526e-05 1.74690649e-04 1.32624973e-05\n",
            "  9.99785006e-01]\n",
            " [7.88219045e-15 5.03331421e-09 1.00000000e+00 3.01491332e-11\n",
            "  2.21056658e-12]\n",
            " [4.43158600e-11 9.99928713e-01 5.54011194e-07 3.13643056e-10\n",
            "  7.06793144e-05]\n",
            " [5.95308304e-01 3.87518048e-01 3.54729054e-05 1.71378981e-02\n",
            "  2.37129683e-07]\n",
            " [1.32948452e-09 1.43323727e-02 6.08815935e-06 9.85661387e-01\n",
            "  2.11227160e-07]\n",
            " [2.42647677e-12 9.99962211e-01 6.50040192e-07 4.24363357e-11\n",
            "  3.71934948e-05]\n",
            " [4.98895203e-10 1.87366833e-09 2.22874220e-07 9.99999762e-01\n",
            "  9.52339249e-12]\n",
            " [1.31056254e-06 9.79504175e-03 3.88101250e-01 5.42341964e-04\n",
            "  6.01560056e-01]\n",
            " [1.66699613e-06 2.77603362e-02 7.88442492e-01 1.81683209e-02\n",
            "  1.65627211e-01]\n",
            " [1.42256795e-07 2.00384784e-05 4.27576061e-03 1.24903433e-01\n",
            "  8.70800614e-01]\n",
            " [9.79163945e-01 2.43373233e-06 5.39615890e-03 1.53797567e-02\n",
            "  5.76730672e-05]\n",
            " [1.73987559e-07 9.97619927e-01 1.63392433e-05 1.43344332e-05\n",
            "  2.34921649e-03]\n",
            " [3.03747222e-10 4.13171074e-06 9.99984860e-01 6.84374436e-06\n",
            "  4.17205820e-06]\n",
            " [9.73001402e-11 9.99990463e-01 6.21041352e-07 4.24573904e-10\n",
            "  8.90640149e-06]\n",
            " [7.53942811e-11 9.97815877e-02 7.94447317e-07 1.69692086e-07\n",
            "  9.00217474e-01]\n",
            " [1.47348425e-10 9.99970078e-01 1.76706617e-05 3.03477850e-06\n",
            "  9.28015379e-06]\n",
            " [8.56182680e-08 8.55014380e-03 1.68406532e-05 9.91432548e-01\n",
            "  3.73318471e-07]\n",
            " [4.23266144e-11 9.99997854e-01 3.54054038e-07 3.43470030e-09\n",
            "  1.79621645e-06]\n",
            " [2.41354658e-12 1.38405496e-02 8.79598119e-08 1.09985470e-08\n",
            "  9.86159384e-01]\n",
            " [1.99859631e-08 9.78231013e-01 2.17334908e-02 1.56328599e-06\n",
            "  3.39842518e-05]\n",
            " [1.14413565e-11 9.99897003e-01 4.92281231e-07 2.50409998e-10\n",
            "  1.02488644e-04]\n",
            " [6.96109570e-09 5.17326534e-01 4.82503116e-01 1.37619048e-04\n",
            "  3.26873887e-05]\n",
            " [2.31753394e-09 3.67596476e-06 3.52642819e-05 9.99960661e-01\n",
            "  3.04304280e-07]\n",
            " [3.86253740e-09 1.22182188e-04 9.99444187e-01 1.25400940e-04\n",
            "  3.08113900e-04]\n",
            " [1.42097261e-12 3.16379905e-01 1.74521560e-07 7.12986603e-09\n",
            "  6.83619857e-01]\n",
            " [1.45435969e-10 7.09058986e-06 2.56443172e-06 9.99990344e-01\n",
            "  3.77257017e-08]\n",
            " [6.55084112e-11 9.99331117e-01 6.98357762e-05 3.66164954e-06\n",
            "  5.95361344e-04]\n",
            " [1.13781817e-09 7.80194625e-03 3.96792311e-05 9.92135644e-01\n",
            "  2.27230885e-05]\n",
            " [8.16497078e-11 9.99999404e-01 4.64096928e-07 3.41882772e-10\n",
            "  1.05600471e-07]\n",
            " [4.01909062e-11 9.99890685e-01 2.60643969e-06 1.09355547e-09\n",
            "  1.06685256e-04]\n",
            " [3.76486592e-10 2.21135537e-03 9.97774065e-01 7.12669998e-06\n",
            "  7.35876893e-06]\n",
            " [9.99195874e-01 3.94463059e-05 1.12494941e-04 6.50589180e-04\n",
            "  1.67986309e-06]\n",
            " [1.49527075e-08 5.17780310e-04 8.72606779e-06 9.99408841e-01\n",
            "  6.46567787e-05]\n",
            " [1.83081952e-11 8.36603623e-03 2.04053387e-04 2.25855729e-06\n",
            "  9.91427660e-01]\n",
            " [2.10136318e-11 7.89548515e-09 2.69764708e-08 1.00000000e+00\n",
            "  8.54278037e-11]\n",
            " [9.98129427e-01 1.30158196e-05 8.52320809e-05 1.77186565e-03\n",
            "  5.35932372e-07]\n",
            " [5.82087960e-05 3.11704905e-04 9.07969952e-01 7.89792687e-02\n",
            "  1.26809422e-02]\n",
            " [9.10254816e-10 2.57162576e-08 1.53638337e-06 9.99998450e-01\n",
            "  5.60413160e-10]\n",
            " [1.50663135e-10 1.54102452e-07 8.12741590e-08 9.99999762e-01\n",
            "  1.98774575e-09]\n",
            " [2.53046039e-11 9.99612033e-01 2.11095380e-06 1.41959583e-10\n",
            "  3.85811494e-04]\n",
            " [1.96948193e-07 7.91673025e-04 7.85519660e-04 2.90491967e-04\n",
            "  9.98132169e-01]\n",
            " [2.40958512e-12 4.02137078e-02 1.87911482e-07 3.39169510e-08\n",
            "  9.59786057e-01]\n",
            " [1.15288259e-08 9.89070577e-06 3.25256951e-06 9.99986887e-01\n",
            "  3.93863164e-10]\n",
            " [7.82092169e-11 2.62050219e-02 1.13966875e-03 3.84688474e-06\n",
            "  9.72651422e-01]\n",
            " [2.58277971e-02 9.72187459e-01 2.62533522e-05 1.95835810e-03\n",
            "  3.22923732e-08]\n",
            " [8.90372429e-11 9.97812152e-01 1.43826619e-05 3.80752198e-07\n",
            "  2.17310642e-03]\n",
            " [2.49705933e-11 7.24338861e-06 2.18427672e-07 9.99992490e-01\n",
            "  1.52354795e-11]\n",
            " [7.94998453e-13 9.99999166e-01 7.66760252e-07 1.74212988e-11\n",
            "  9.18819225e-08]\n",
            " [3.46036719e-12 3.07685952e-03 5.43039678e-05 1.43635282e-06\n",
            "  9.96867359e-01]\n",
            " [8.08052998e-03 9.91916239e-01 1.31161556e-07 9.95628284e-07\n",
            "  2.10463395e-06]\n",
            " [1.70930251e-12 9.99998689e-01 7.69010967e-07 1.23139177e-09\n",
            "  6.55370513e-07]\n",
            " [9.96109664e-01 1.78713322e-04 4.12872178e-04 3.28368065e-03\n",
            "  1.50357928e-05]\n",
            " [8.95458162e-01 6.88635558e-02 4.06421095e-05 3.56377214e-02\n",
            "  2.34613129e-09]\n",
            " [8.96452996e-13 9.99999166e-01 5.98213035e-07 1.63308783e-10\n",
            "  2.28487551e-07]\n",
            " [4.96295556e-08 1.17410673e-03 2.77211577e-01 1.47483253e-04\n",
            "  7.21466780e-01]\n",
            " [1.06871478e-12 4.47589584e-04 1.08579638e-06 1.07465553e-07\n",
            "  9.99551237e-01]\n",
            " [1.02133744e-11 6.06031281e-05 2.06645309e-05 4.36313968e-07\n",
            "  9.99918342e-01]\n",
            " [1.16557558e-03 9.97299731e-01 3.49545473e-04 1.07340798e-04\n",
            "  1.07779109e-03]\n",
            " [3.92650842e-12 9.99985456e-01 6.94266021e-07 4.41036208e-10\n",
            "  1.37804191e-05]\n",
            " [2.16620775e-13 6.55908889e-06 9.99993443e-01 5.93412786e-09\n",
            "  3.86987144e-11]\n",
            " [2.31263519e-09 5.21751424e-08 1.09917181e-07 9.99999881e-01\n",
            "  5.02925146e-10]\n",
            " [8.19893285e-12 8.26218340e-04 2.89403943e-05 5.45129865e-07\n",
            "  9.99144316e-01]\n",
            " [5.23583017e-11 9.95960772e-01 1.26245209e-06 1.42361817e-10\n",
            "  4.03798046e-03]\n",
            " [1.35750724e-06 3.55580123e-03 4.06976178e-05 9.96402144e-01\n",
            "  2.44772060e-08]\n",
            " [3.73720020e-01 6.26232207e-01 9.89535692e-07 1.52155835e-05\n",
            "  3.16147671e-05]\n",
            " [3.34789867e-08 8.54670163e-03 9.73135293e-01 1.82894934e-02\n",
            "  2.85659553e-05]\n",
            " [1.54734667e-12 9.99848723e-01 4.17189000e-07 8.00806921e-11\n",
            "  1.50826003e-04]\n",
            " [1.14298837e-06 2.63706176e-03 9.89897966e-01 2.26586853e-04\n",
            "  7.23727327e-03]\n",
            " [1.85053969e-11 9.99512315e-01 1.02544414e-04 2.27372093e-05\n",
            "  3.62367893e-04]\n",
            " [1.69915471e-11 9.99996543e-01 8.42006287e-08 1.30622579e-11\n",
            "  3.31995557e-06]\n",
            " [7.22613213e-13 9.99999762e-01 3.00460705e-08 8.83879948e-12\n",
            "  2.60921723e-07]\n",
            " [3.90340938e-06 3.80959571e-03 9.64189112e-01 2.51046840e-05\n",
            "  3.19723375e-02]\n",
            " [2.85714230e-11 9.76756951e-08 2.14194582e-08 9.99999881e-01\n",
            "  5.13567357e-12]\n",
            " [1.18090526e-07 9.99969721e-01 1.31246297e-05 1.66412167e-06\n",
            "  1.53491928e-05]\n",
            " [3.00659948e-11 4.20926558e-03 2.67059058e-05 1.56395472e-05\n",
            "  9.95748460e-01]\n",
            " [1.83635229e-09 3.29459217e-05 9.99787748e-01 1.21385958e-04\n",
            "  5.80992164e-05]\n",
            " [1.10243099e-10 2.79859460e-08 1.96307610e-08 1.00000000e+00\n",
            "  1.80617435e-12]\n",
            " [5.02314336e-11 9.97582555e-01 3.16612131e-05 3.67513997e-09\n",
            "  2.38582143e-03]\n",
            " [7.08204502e-12 2.46936537e-07 5.95790510e-08 9.99999642e-01\n",
            "  1.12814445e-12]\n",
            " [1.09556839e-01 8.90436888e-01 1.56147124e-07 5.44520481e-06\n",
            "  6.99870270e-07]\n",
            " [6.00137939e-10 5.62846762e-05 1.36104718e-04 1.84756209e-06\n",
            "  9.99805748e-01]\n",
            " [9.95811820e-01 8.58063227e-04 2.45267351e-04 3.06649879e-03\n",
            "  1.83494085e-05]\n",
            " [2.16327081e-08 9.12474811e-01 7.76187554e-02 1.30755780e-03\n",
            "  8.59889761e-03]\n",
            " [5.71579395e-10 9.99765217e-01 1.60074869e-05 1.09797265e-08\n",
            "  2.18777321e-04]\n",
            " [1.52471175e-10 2.01713817e-07 1.52248151e-06 9.99998331e-01\n",
            "  2.79809367e-08]\n",
            " [1.27814859e-09 2.68940166e-05 1.17164245e-06 9.99971867e-01\n",
            "  1.07239408e-07]\n",
            " [9.86239215e-08 9.99992609e-01 1.47180836e-08 1.40895628e-09\n",
            "  7.23226913e-06]\n",
            " [3.23226401e-09 1.89729818e-07 1.25301194e-05 9.99986768e-01\n",
            "  4.58368504e-07]]\n"
          ],
          "name": "stdout"
        }
      ]
    },
    {
      "cell_type": "code",
      "metadata": {
        "colab": {
          "base_uri": "https://localhost:8080/"
        },
        "id": "rYuFLTPe782v",
        "outputId": "e659772f-65f2-4ae7-f2b3-51b61e6dbc28"
      },
      "source": [
        "print(classification_report(testY.argmax(axis=1),\n",
        "\tpredictions.argmax(axis=1), target_names=lb.classes_))"
      ],
      "execution_count": null,
      "outputs": [
        {
          "output_type": "stream",
          "text": [
            "              precision    recall  f1-score   support\n",
            "\n",
            "      GMB_03       1.00      0.44      0.62        27\n",
            "      GMB_04       0.68      1.00      0.81        42\n",
            "      GMB_07       0.96      0.84      0.90        32\n",
            "      GMB_09       1.00      1.00      1.00        33\n",
            "      nonGMB       0.97      0.95      0.96        39\n",
            "\n",
            "    accuracy                           0.87       173\n",
            "   macro avg       0.92      0.85      0.86       173\n",
            "weighted avg       0.91      0.87      0.87       173\n",
            "\n"
          ],
          "name": "stdout"
        }
      ]
    },
    {
      "cell_type": "code",
      "metadata": {
        "id": "4uBcj8x8iwTw",
        "colab": {
          "base_uri": "https://localhost:8080/"
        },
        "outputId": "3a325636-d67a-4b5d-f076-563280c6326a"
      },
      "source": [
        "model.save('nnmodel_scene')"
      ],
      "execution_count": null,
      "outputs": [
        {
          "output_type": "stream",
          "text": [
            "WARNING:tensorflow:From /usr/local/lib/python3.6/dist-packages/tensorflow/python/training/tracking/tracking.py:111: Model.state_updates (from tensorflow.python.keras.engine.training) is deprecated and will be removed in a future version.\n",
            "Instructions for updating:\n",
            "This property should not be used in TensorFlow 2.0, as updates are applied automatically.\n",
            "WARNING:tensorflow:From /usr/local/lib/python3.6/dist-packages/tensorflow/python/training/tracking/tracking.py:111: Layer.updates (from tensorflow.python.keras.engine.base_layer) is deprecated and will be removed in a future version.\n",
            "Instructions for updating:\n",
            "This property should not be used in TensorFlow 2.0, as updates are applied automatically.\n",
            "INFO:tensorflow:Assets written to: nnmodel_scene/assets\n"
          ],
          "name": "stdout"
        }
      ]
    },
    {
      "cell_type": "code",
      "metadata": {
        "id": "AOwJT2jLVGCN"
      },
      "source": [
        "import cv2\n",
        "import matplotlib.pyplot as plt\n",
        "image1='daunnon_test.jpg'"
      ],
      "execution_count": null,
      "outputs": []
    },
    {
      "cell_type": "code",
      "metadata": {
        "id": "PkM68K4GVGCP",
        "colab": {
          "base_uri": "https://localhost:8080/",
          "height": 269
        },
        "outputId": "1900afeb-bb0b-46af-bb4f-4948a7cd1c8f"
      },
      "source": [
        "img_array = cv2.imread(image1)\n",
        "plt.imshow(img_array)\n",
        "plt.show()\n",
        "# print(type(img_array))"
      ],
      "execution_count": null,
      "outputs": [
        {
          "output_type": "display_data",
          "data": {
            "image/png": "[encoded data removed]",
            "text/plain": [
              "<Figure size 432x288 with 1 Axes>"
            ]
          },
          "metadata": {
            "tags": [],
            "needs_background": "light"
          }
        }
      ]
    },
    {
      "cell_type": "code",
      "metadata": {
        "id": "1ZkNY8LWVGCR",
        "colab": {
          "base_uri": "https://localhost:8080/"
        },
        "outputId": "a51e75a4-d49f-420f-d352-8dcccd6c9db6"
      },
      "source": [
        "image_testing = Image.open('daunnon_test.jpg')\n",
        "image_testing = np.array(image_testing.resize((224,224))) / 255.0\n",
        "image_testing.shape"
      ],
      "execution_count": null,
      "outputs": [
        {
          "output_type": "execute_result",
          "data": {
            "text/plain": [
              "(224, 224, 3)"
            ]
          },
          "metadata": {
            "tags": []
          },
          "execution_count": 35
        }
      ]
    },
    {
      "cell_type": "code",
      "metadata": {
        "id": "qL66nfOcVGCT",
        "colab": {
          "base_uri": "https://localhost:8080/"
        },
        "outputId": "725c1631-f81b-45bf-bf4a-e83b1dbb558e"
      },
      "source": [
        "image_testing = np.expand_dims(image_testing, axis=0)\n",
        "print(image_testing.shape)"
      ],
      "execution_count": null,
      "outputs": [
        {
          "output_type": "stream",
          "text": [
            "(1, 224, 224, 3)\n"
          ],
          "name": "stdout"
        }
      ]
    },
    {
      "cell_type": "code",
      "metadata": {
        "id": "vTy9yP1AVGCV",
        "colab": {
          "base_uri": "https://localhost:8080/"
        },
        "outputId": "9582b3ad-5e40-4aa2-e989-dde163223df7"
      },
      "source": [
        "output = model.predict(image_testing, 1)\n",
        "print(output)\n",
        "print(lb.classes_[output.argmax(axis=1)])"
      ],
      "execution_count": null,
      "outputs": [
        {
          "output_type": "stream",
          "text": [
            "[[3.0534791e-10 1.5608081e-02 1.0324986e-06 1.5555192e-07 9.8439080e-01]]\n",
            "['nonGMB']\n"
          ],
          "name": "stdout"
        }
      ]
    },
    {
      "cell_type": "code",
      "metadata": {
        "id": "cu5SSxXyiOs3"
      },
      "source": [
        ""
      ],
      "execution_count": null,
      "outputs": []
    }
  ]
}
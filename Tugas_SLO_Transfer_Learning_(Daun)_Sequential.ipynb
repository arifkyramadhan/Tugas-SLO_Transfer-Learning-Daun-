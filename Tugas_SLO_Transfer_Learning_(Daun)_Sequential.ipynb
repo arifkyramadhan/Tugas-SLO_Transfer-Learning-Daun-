{
  "nbformat": 4,
  "nbformat_minor": 0,
  "metadata": {
    "kernelspec": {
      "name": "python3",
      "display_name": "Python 3"
    },
    "language_info": {
      "codemirror_mode": {
        "name": "ipython",
        "version": 3
      },
      "file_extension": ".py",
      "mimetype": "text/x-python",
      "name": "python",
      "nbconvert_exporter": "python",
      "pygments_lexer": "ipython3",
      "version": "3.7.4"
    },
    "colab": {
      "name": "Tugas SLO_Transfer Learning (Daun).ipynb",
      "provenance": [],
      "collapsed_sections": [],
      "include_colab_link": true
    },
    "accelerator": "GPU"
  },
  "cells": [
    {
      "cell_type": "markdown",
      "metadata": {
        "id": "view-in-github",
        "colab_type": "text"
      },
      "source": [
        "<a href=\"https://colab.research.google.com/github/arifkyramadhan/Tugas-SLO_Transfer-Learning-Daun-/blob/main/Tugas_SLO_Transfer_Learning_(Daun)_Sequential.ipynb\" target=\"_parent\"><img src=\"https://colab.research.google.com/assets/colab-badge.svg\" alt=\"Open In Colab\"/></a>"
      ]
    },
    {
      "cell_type": "markdown",
      "metadata": {
        "id": "gpxXGqlxcWk-"
      },
      "source": [
        "Memakai sequential"
      ]
    },
    {
      "cell_type": "code",
      "metadata": {
        "id": "_dJvuvIBVLS_",
        "colab": {
          "base_uri": "https://localhost:8080/"
        },
        "outputId": "e5f391c3-aa3b-4b54-fa2d-e9e7612427a7"
      },
      "source": [
        "from google.colab import drive\n",
        "drive.mount('/content/drive')"
      ],
      "execution_count": null,
      "outputs": [
        {
          "output_type": "stream",
          "text": [
            "Drive already mounted at /content/drive; to attempt to forcibly remount, call drive.mount(\"/content/drive\", force_remount=True).\n"
          ],
          "name": "stdout"
        }
      ]
    },
    {
      "cell_type": "code",
      "metadata": {
        "id": "H215ikbNVVZS",
        "colab": {
          "base_uri": "https://localhost:8080/"
        },
        "outputId": "34da45f4-aa30-481a-e275-e39955ca8920"
      },
      "source": [
        "cd /content/drive/My Drive/Colab Notebooks"
      ],
      "execution_count": null,
      "outputs": [
        {
          "output_type": "stream",
          "text": [
            "/content/drive/My Drive/Colab Notebooks\n"
          ],
          "name": "stdout"
        }
      ]
    },
    {
      "cell_type": "code",
      "metadata": {
        "id": "z7VB1d4wVdov",
        "colab": {
          "base_uri": "https://localhost:8080/"
        },
        "outputId": "7948e2d4-9040-4b09-8148-9d7c0f6048a2"
      },
      "source": [
        "ls"
      ],
      "execution_count": null,
      "outputs": [
        {
          "output_type": "stream",
          "text": [
            " \u001b[0m\u001b[01;34m3scenes\u001b[0m/\n",
            "'Basic Python, Numpy and Matplotlib.ipynb'\n",
            " best_weight_scene_mobileNet.h5\n",
            "'Coba buka file csv.ipynb'\n",
            "'coba neural#install the dependencies !pip install kaggle.ipynb'\n",
            "'Copy of Copy of Wine(Neural Network).ipynb'\n",
            "\u001b[01;34m'Dataset daun'\u001b[0m/\n",
            " \u001b[01;34mDaun\u001b[0m/\n",
            " daun10_test.jpg\n",
            " daun11_test.jpg\n",
            " daun1_test.jpg\n",
            " daun2_test.jpg\n",
            " daun3_test.jpg\n",
            " daun4_test.jpg\n",
            " daun5_test.jpg\n",
            " daun6_test.jpg\n",
            " daun7_test.jpg\n",
            " daun8_test.jpg\n",
            " daun9_test.jpg\n",
            " daunnon_test.jpg\n",
            " daun_test.jpg\n",
            " forest_test.jpg\n",
            "'Neural (Battery).ipynb'\n",
            " \u001b[01;34mnnmodel_scene\u001b[0m/\n",
            "'scenes_nn_4 layers.ipynb'\n",
            "'Simple ANN Python (Neural Network).ipynb'\n",
            " StudentsPerformance.csv\n",
            "'Tugas Transfer Learning.ipynb'\n",
            " Untitled0.ipynb\n",
            " Untitled1.ipynb\n",
            " Untitled2.ipynb\n"
          ],
          "name": "stdout"
        }
      ]
    },
    {
      "cell_type": "code",
      "metadata": {
        "id": "5IGm26ZzVGBs"
      },
      "source": [
        "# import the necessary packages\n",
        "from keras.models import Sequential\n",
        "from keras.layers.convolutional import Conv2D\n",
        "from keras.layers.convolutional import MaxPooling2D\n",
        "from keras.layers.core import Activation\n",
        "from keras.layers.core import Flatten\n",
        "from keras.layers.core import Dense\n",
        "from keras.optimizers import Adam\n",
        "from sklearn.preprocessing import LabelBinarizer\n",
        "from sklearn.model_selection import train_test_split\n",
        "from sklearn.metrics import classification_report\n",
        "from PIL import Image\n",
        "from imutils import paths\n",
        "import numpy as np\n",
        "import os"
      ],
      "execution_count": null,
      "outputs": []
    },
    {
      "cell_type": "code",
      "metadata": {
        "id": "0-5PXYTsVGBw",
        "colab": {
          "base_uri": "https://localhost:8080/"
        },
        "outputId": "6bde6a1d-3016-40ad-ff89-c30ad4800124"
      },
      "source": [
        "# grab all image paths in the input dataset directory, then initialize\n",
        "# our list of images and corresponding class labels\n",
        "print(\"[INFO] loading images...\")\n",
        "imagePaths = paths.list_images(\"Daun\")\n",
        "data = []\n",
        "labels = []"
      ],
      "execution_count": null,
      "outputs": [
        {
          "output_type": "stream",
          "text": [
            "[INFO] loading images...\n"
          ],
          "name": "stdout"
        }
      ]
    },
    {
      "cell_type": "code",
      "metadata": {
        "id": "9Q-KXSsGVGB0"
      },
      "source": [
        "# loop over our input images\n",
        "for imagePath in imagePaths:\n",
        "\t# load the input image from disk, resize it to 64x64 pixels, scale\n",
        "\t# the pixel intensities to the range [0, 1], and then update our\n",
        "\t# images list\n",
        "\timage = Image.open(imagePath)\n",
        "\timage = np.array(image.resize((224, 224))) / 255.0\n",
        "\tdata.append(image)\n",
        "\n",
        "\t# extract the class label from the file path and update the\n",
        "\t# labels list\n",
        "\tlabel = imagePath.split(os.path.sep)[-2]\n",
        "\tlabels.append(label)"
      ],
      "execution_count": null,
      "outputs": []
    },
    {
      "cell_type": "code",
      "metadata": {
        "id": "Rzbolh88VGB2",
        "colab": {
          "base_uri": "https://localhost:8080/"
        },
        "outputId": "bfdffd7c-9e58-4542-99dd-0cba45d7f46b"
      },
      "source": [
        "print(labels)"
      ],
      "execution_count": null,
      "outputs": [
        {
          "output_type": "stream",
          "text": [
            "['GMB_09', 'GMB_09', 'GMB_09', 'GMB_09', 'GMB_09', 'GMB_09', 'GMB_09', 'GMB_09', 'GMB_09', 'GMB_09', 'GMB_09', 'GMB_09', 'GMB_09', 'GMB_09', 'GMB_09', 'GMB_09', 'GMB_09', 'GMB_09', 'GMB_09', 'GMB_09', 'GMB_09', 'GMB_09', 'GMB_09', 'GMB_09', 'GMB_09', 'GMB_09', 'GMB_09', 'GMB_09', 'GMB_09', 'GMB_09', 'GMB_09', 'GMB_09', 'GMB_09', 'GMB_09', 'GMB_09', 'GMB_09', 'GMB_09', 'GMB_09', 'GMB_09', 'GMB_09', 'GMB_09', 'GMB_09', 'GMB_09', 'GMB_09', 'GMB_09', 'GMB_09', 'GMB_09', 'GMB_09', 'GMB_09', 'GMB_09', 'GMB_09', 'GMB_09', 'GMB_09', 'GMB_09', 'GMB_09', 'GMB_09', 'GMB_09', 'GMB_09', 'GMB_09', 'GMB_09', 'GMB_09', 'GMB_09', 'GMB_09', 'GMB_09', 'GMB_09', 'GMB_09', 'GMB_09', 'GMB_09', 'GMB_09', 'GMB_09', 'GMB_09', 'GMB_09', 'GMB_09', 'GMB_09', 'GMB_09', 'GMB_09', 'GMB_09', 'GMB_09', 'GMB_09', 'GMB_09', 'GMB_09', 'GMB_09', 'GMB_09', 'GMB_09', 'GMB_09', 'GMB_09', 'GMB_09', 'GMB_09', 'GMB_09', 'GMB_09', 'GMB_09', 'GMB_09', 'GMB_09', 'GMB_09', 'GMB_09', 'GMB_09', 'GMB_09', 'GMB_09', 'GMB_09', 'GMB_09', 'GMB_09', 'GMB_09', 'GMB_09', 'GMB_09', 'GMB_09', 'GMB_09', 'GMB_09', 'GMB_09', 'GMB_09', 'GMB_09', 'GMB_09', 'GMB_09', 'GMB_09', 'GMB_09', 'GMB_09', 'GMB_03', 'GMB_03', 'GMB_03', 'GMB_03', 'GMB_03', 'GMB_03', 'GMB_03', 'GMB_03', 'GMB_03', 'GMB_03', 'GMB_03', 'GMB_03', 'GMB_03', 'GMB_03', 'GMB_03', 'GMB_03', 'GMB_03', 'GMB_03', 'GMB_03', 'GMB_03', 'GMB_03', 'GMB_03', 'GMB_03', 'GMB_03', 'GMB_03', 'GMB_03', 'GMB_03', 'GMB_03', 'GMB_03', 'GMB_03', 'GMB_03', 'GMB_03', 'GMB_03', 'GMB_03', 'GMB_03', 'GMB_03', 'GMB_03', 'GMB_03', 'GMB_03', 'GMB_03', 'GMB_03', 'GMB_03', 'GMB_03', 'GMB_03', 'GMB_03', 'GMB_03', 'GMB_03', 'GMB_03', 'GMB_03', 'GMB_03', 'GMB_03', 'GMB_03', 'GMB_03', 'GMB_03', 'GMB_03', 'GMB_03', 'GMB_03', 'GMB_03', 'GMB_03', 'GMB_03', 'GMB_03', 'GMB_03', 'GMB_03', 'GMB_03', 'GMB_03', 'GMB_03', 'GMB_03', 'GMB_03', 'GMB_03', 'GMB_03', 'GMB_03', 'GMB_03', 'GMB_03', 'GMB_03', 'GMB_03', 'GMB_03', 'GMB_03', 'GMB_03', 'GMB_03', 'GMB_03', 'GMB_03', 'GMB_03', 'GMB_03', 'GMB_03', 'GMB_03', 'GMB_03', 'GMB_03', 'GMB_03', 'GMB_03', 'GMB_03', 'GMB_03', 'GMB_03', 'GMB_03', 'GMB_03', 'GMB_03', 'GMB_03', 'GMB_03', 'GMB_03', 'GMB_03', 'GMB_03', 'GMB_03', 'GMB_03', 'GMB_03', 'GMB_03', 'GMB_03', 'GMB_03', 'GMB_03', 'GMB_03', 'GMB_03', 'GMB_03', 'GMB_03', 'GMB_03', 'GMB_04', 'GMB_04', 'GMB_04', 'GMB_04', 'GMB_04', 'GMB_04', 'GMB_04', 'GMB_04', 'GMB_04', 'GMB_04', 'GMB_04', 'GMB_04', 'GMB_04', 'GMB_04', 'GMB_04', 'GMB_04', 'GMB_04', 'GMB_04', 'GMB_04', 'GMB_04', 'GMB_04', 'GMB_04', 'GMB_04', 'GMB_04', 'GMB_04', 'GMB_04', 'GMB_04', 'GMB_04', 'GMB_04', 'GMB_04', 'GMB_04', 'GMB_04', 'GMB_04', 'GMB_04', 'GMB_04', 'GMB_04', 'GMB_04', 'GMB_04', 'GMB_04', 'GMB_04', 'GMB_04', 'GMB_04', 'GMB_04', 'GMB_04', 'GMB_04', 'GMB_04', 'GMB_04', 'GMB_04', 'GMB_04', 'GMB_04', 'GMB_04', 'GMB_04', 'GMB_04', 'GMB_04', 'GMB_04', 'GMB_04', 'GMB_04', 'GMB_04', 'GMB_04', 'GMB_04', 'GMB_04', 'GMB_04', 'GMB_04', 'GMB_04', 'GMB_04', 'GMB_04', 'GMB_04', 'GMB_04', 'GMB_04', 'GMB_04', 'GMB_04', 'GMB_04', 'GMB_04', 'GMB_04', 'GMB_04', 'GMB_04', 'GMB_04', 'GMB_04', 'GMB_04', 'GMB_04', 'GMB_04', 'GMB_04', 'GMB_04', 'GMB_04', 'GMB_04', 'GMB_04', 'GMB_04', 'GMB_04', 'GMB_04', 'GMB_04', 'GMB_04', 'GMB_04', 'GMB_04', 'GMB_04', 'GMB_04', 'GMB_04', 'GMB_04', 'GMB_04', 'GMB_04', 'GMB_04', 'GMB_04', 'GMB_04', 'GMB_04', 'GMB_04', 'GMB_04', 'GMB_04', 'GMB_04', 'GMB_04', 'GMB_04', 'GMB_04', 'GMB_04', 'GMB_04', 'GMB_04', 'GMB_04', 'GMB_04', 'GMB_04', 'GMB_04', 'GMB_04', 'GMB_04', 'GMB_04', 'GMB_04', 'GMB_04']\n"
          ],
          "name": "stdout"
        }
      ]
    },
    {
      "cell_type": "code",
      "metadata": {
        "id": "twd1IeuKVGB5"
      },
      "source": [
        "# encode the labels, converting them from strings to integers\n",
        "lb = LabelBinarizer()\n",
        "labels = lb.fit_transform(labels)"
      ],
      "execution_count": null,
      "outputs": []
    },
    {
      "cell_type": "code",
      "metadata": {
        "id": "5FPCyIqcVGB7",
        "colab": {
          "base_uri": "https://localhost:8080/"
        },
        "outputId": "ddfe6150-0351-4cbb-be59-e8b5720de7fb"
      },
      "source": [
        "print(labels)"
      ],
      "execution_count": null,
      "outputs": [
        {
          "output_type": "stream",
          "text": [
            "[[0 0 1]\n",
            " [0 0 1]\n",
            " [0 0 1]\n",
            " ...\n",
            " [0 1 0]\n",
            " [0 1 0]\n",
            " [0 1 0]]\n"
          ],
          "name": "stdout"
        }
      ]
    },
    {
      "cell_type": "code",
      "metadata": {
        "id": "ktZ5hNYwVGB9",
        "colab": {
          "base_uri": "https://localhost:8080/"
        },
        "outputId": "c7092273-0e24-4904-ebac-5ea08480ff2e"
      },
      "source": [
        "# perform a training and testing split, using 75% of the data for\n",
        "# training and 25% for evaluation\n",
        "(trainX, testX, trainY, testY) = train_test_split(np.array(data),\tnp.array(labels), test_size=0.30)\n",
        "print(trainX.shape)\n",
        "print(testX.shape)"
      ],
      "execution_count": null,
      "outputs": [
        {
          "output_type": "stream",
          "text": [
            "(244, 224, 224, 3)\n",
            "(105, 224, 224, 3)\n"
          ],
          "name": "stdout"
        }
      ]
    },
    {
      "cell_type": "code",
      "metadata": {
        "id": "-1LK97ZhDrRZ"
      },
      "source": [
        "from keras.applications.mobilenet import MobileNet\n",
        "from keras.callbacks import EarlyStopping, ModelCheckpoint\n",
        "from keras.models import Model\n",
        "from keras.layers import GlobalAveragePooling2D, BatchNormalization"
      ],
      "execution_count": null,
      "outputs": []
    },
    {
      "cell_type": "code",
      "metadata": {
        "id": "1gv-u7AfEBQg",
        "colab": {
          "base_uri": "https://localhost:8080/"
        },
        "outputId": "4b3ce68c-110e-419f-c9a3-697b679fd906"
      },
      "source": [
        "from keras.layers import Dropout\n",
        "base_model = MobileNet(weights='imagenet', include_top=False)\n",
        "x = base_model.output\n",
        "x = GlobalAveragePooling2D()(x)\n",
        "x = Dropout(0.5)(x)\n",
        "x = BatchNormalization()(x)\n",
        "x = Dense(500, activation='relu')(x)\n",
        "out = Dense(5, activation='softmax')(x)\n",
        "\n",
        "model = Model(inputs=base_model.input, outputs=out)\n",
        "model.summary()"
      ],
      "execution_count": null,
      "outputs": [
        {
          "output_type": "stream",
          "text": [
            "WARNING:tensorflow:`input_shape` is undefined or non-square, or `rows` is not in [128, 160, 192, 224]. Weights for input shape (224, 224) will be loaded as the default.\n",
            "Model: \"functional_49\"\n",
            "_________________________________________________________________\n",
            "Layer (type)                 Output Shape              Param #   \n",
            "=================================================================\n",
            "input_24 (InputLayer)        [(None, None, None, 3)]   0         \n",
            "_________________________________________________________________\n",
            "conv1_pad (ZeroPadding2D)    (None, None, None, 3)     0         \n",
            "_________________________________________________________________\n",
            "conv1 (Conv2D)               (None, None, None, 32)    864       \n",
            "_________________________________________________________________\n",
            "conv1_bn (BatchNormalization (None, None, None, 32)    128       \n",
            "_________________________________________________________________\n",
            "conv1_relu (ReLU)            (None, None, None, 32)    0         \n",
            "_________________________________________________________________\n",
            "conv_dw_1 (DepthwiseConv2D)  (None, None, None, 32)    288       \n",
            "_________________________________________________________________\n",
            "conv_dw_1_bn (BatchNormaliza (None, None, None, 32)    128       \n",
            "_________________________________________________________________\n",
            "conv_dw_1_relu (ReLU)        (None, None, None, 32)    0         \n",
            "_________________________________________________________________\n",
            "conv_pw_1 (Conv2D)           (None, None, None, 64)    2048      \n",
            "_________________________________________________________________\n",
            "conv_pw_1_bn (BatchNormaliza (None, None, None, 64)    256       \n",
            "_________________________________________________________________\n",
            "conv_pw_1_relu (ReLU)        (None, None, None, 64)    0         \n",
            "_________________________________________________________________\n",
            "conv_pad_2 (ZeroPadding2D)   (None, None, None, 64)    0         \n",
            "_________________________________________________________________\n",
            "conv_dw_2 (DepthwiseConv2D)  (None, None, None, 64)    576       \n",
            "_________________________________________________________________\n",
            "conv_dw_2_bn (BatchNormaliza (None, None, None, 64)    256       \n",
            "_________________________________________________________________\n",
            "conv_dw_2_relu (ReLU)        (None, None, None, 64)    0         \n",
            "_________________________________________________________________\n",
            "conv_pw_2 (Conv2D)           (None, None, None, 128)   8192      \n",
            "_________________________________________________________________\n",
            "conv_pw_2_bn (BatchNormaliza (None, None, None, 128)   512       \n",
            "_________________________________________________________________\n",
            "conv_pw_2_relu (ReLU)        (None, None, None, 128)   0         \n",
            "_________________________________________________________________\n",
            "conv_dw_3 (DepthwiseConv2D)  (None, None, None, 128)   1152      \n",
            "_________________________________________________________________\n",
            "conv_dw_3_bn (BatchNormaliza (None, None, None, 128)   512       \n",
            "_________________________________________________________________\n",
            "conv_dw_3_relu (ReLU)        (None, None, None, 128)   0         \n",
            "_________________________________________________________________\n",
            "conv_pw_3 (Conv2D)           (None, None, None, 128)   16384     \n",
            "_________________________________________________________________\n",
            "conv_pw_3_bn (BatchNormaliza (None, None, None, 128)   512       \n",
            "_________________________________________________________________\n",
            "conv_pw_3_relu (ReLU)        (None, None, None, 128)   0         \n",
            "_________________________________________________________________\n",
            "conv_pad_4 (ZeroPadding2D)   (None, None, None, 128)   0         \n",
            "_________________________________________________________________\n",
            "conv_dw_4 (DepthwiseConv2D)  (None, None, None, 128)   1152      \n",
            "_________________________________________________________________\n",
            "conv_dw_4_bn (BatchNormaliza (None, None, None, 128)   512       \n",
            "_________________________________________________________________\n",
            "conv_dw_4_relu (ReLU)        (None, None, None, 128)   0         \n",
            "_________________________________________________________________\n",
            "conv_pw_4 (Conv2D)           (None, None, None, 256)   32768     \n",
            "_________________________________________________________________\n",
            "conv_pw_4_bn (BatchNormaliza (None, None, None, 256)   1024      \n",
            "_________________________________________________________________\n",
            "conv_pw_4_relu (ReLU)        (None, None, None, 256)   0         \n",
            "_________________________________________________________________\n",
            "conv_dw_5 (DepthwiseConv2D)  (None, None, None, 256)   2304      \n",
            "_________________________________________________________________\n",
            "conv_dw_5_bn (BatchNormaliza (None, None, None, 256)   1024      \n",
            "_________________________________________________________________\n",
            "conv_dw_5_relu (ReLU)        (None, None, None, 256)   0         \n",
            "_________________________________________________________________\n",
            "conv_pw_5 (Conv2D)           (None, None, None, 256)   65536     \n",
            "_________________________________________________________________\n",
            "conv_pw_5_bn (BatchNormaliza (None, None, None, 256)   1024      \n",
            "_________________________________________________________________\n",
            "conv_pw_5_relu (ReLU)        (None, None, None, 256)   0         \n",
            "_________________________________________________________________\n",
            "conv_pad_6 (ZeroPadding2D)   (None, None, None, 256)   0         \n",
            "_________________________________________________________________\n",
            "conv_dw_6 (DepthwiseConv2D)  (None, None, None, 256)   2304      \n",
            "_________________________________________________________________\n",
            "conv_dw_6_bn (BatchNormaliza (None, None, None, 256)   1024      \n",
            "_________________________________________________________________\n",
            "conv_dw_6_relu (ReLU)        (None, None, None, 256)   0         \n",
            "_________________________________________________________________\n",
            "conv_pw_6 (Conv2D)           (None, None, None, 512)   131072    \n",
            "_________________________________________________________________\n",
            "conv_pw_6_bn (BatchNormaliza (None, None, None, 512)   2048      \n",
            "_________________________________________________________________\n",
            "conv_pw_6_relu (ReLU)        (None, None, None, 512)   0         \n",
            "_________________________________________________________________\n",
            "conv_dw_7 (DepthwiseConv2D)  (None, None, None, 512)   4608      \n",
            "_________________________________________________________________\n",
            "conv_dw_7_bn (BatchNormaliza (None, None, None, 512)   2048      \n",
            "_________________________________________________________________\n",
            "conv_dw_7_relu (ReLU)        (None, None, None, 512)   0         \n",
            "_________________________________________________________________\n",
            "conv_pw_7 (Conv2D)           (None, None, None, 512)   262144    \n",
            "_________________________________________________________________\n",
            "conv_pw_7_bn (BatchNormaliza (None, None, None, 512)   2048      \n",
            "_________________________________________________________________\n",
            "conv_pw_7_relu (ReLU)        (None, None, None, 512)   0         \n",
            "_________________________________________________________________\n",
            "conv_dw_8 (DepthwiseConv2D)  (None, None, None, 512)   4608      \n",
            "_________________________________________________________________\n",
            "conv_dw_8_bn (BatchNormaliza (None, None, None, 512)   2048      \n",
            "_________________________________________________________________\n",
            "conv_dw_8_relu (ReLU)        (None, None, None, 512)   0         \n",
            "_________________________________________________________________\n",
            "conv_pw_8 (Conv2D)           (None, None, None, 512)   262144    \n",
            "_________________________________________________________________\n",
            "conv_pw_8_bn (BatchNormaliza (None, None, None, 512)   2048      \n",
            "_________________________________________________________________\n",
            "conv_pw_8_relu (ReLU)        (None, None, None, 512)   0         \n",
            "_________________________________________________________________\n",
            "conv_dw_9 (DepthwiseConv2D)  (None, None, None, 512)   4608      \n",
            "_________________________________________________________________\n",
            "conv_dw_9_bn (BatchNormaliza (None, None, None, 512)   2048      \n",
            "_________________________________________________________________\n",
            "conv_dw_9_relu (ReLU)        (None, None, None, 512)   0         \n",
            "_________________________________________________________________\n",
            "conv_pw_9 (Conv2D)           (None, None, None, 512)   262144    \n",
            "_________________________________________________________________\n",
            "conv_pw_9_bn (BatchNormaliza (None, None, None, 512)   2048      \n",
            "_________________________________________________________________\n",
            "conv_pw_9_relu (ReLU)        (None, None, None, 512)   0         \n",
            "_________________________________________________________________\n",
            "conv_dw_10 (DepthwiseConv2D) (None, None, None, 512)   4608      \n",
            "_________________________________________________________________\n",
            "conv_dw_10_bn (BatchNormaliz (None, None, None, 512)   2048      \n",
            "_________________________________________________________________\n",
            "conv_dw_10_relu (ReLU)       (None, None, None, 512)   0         \n",
            "_________________________________________________________________\n",
            "conv_pw_10 (Conv2D)          (None, None, None, 512)   262144    \n",
            "_________________________________________________________________\n",
            "conv_pw_10_bn (BatchNormaliz (None, None, None, 512)   2048      \n",
            "_________________________________________________________________\n",
            "conv_pw_10_relu (ReLU)       (None, None, None, 512)   0         \n",
            "_________________________________________________________________\n",
            "conv_dw_11 (DepthwiseConv2D) (None, None, None, 512)   4608      \n",
            "_________________________________________________________________\n",
            "conv_dw_11_bn (BatchNormaliz (None, None, None, 512)   2048      \n",
            "_________________________________________________________________\n",
            "conv_dw_11_relu (ReLU)       (None, None, None, 512)   0         \n",
            "_________________________________________________________________\n",
            "conv_pw_11 (Conv2D)          (None, None, None, 512)   262144    \n",
            "_________________________________________________________________\n",
            "conv_pw_11_bn (BatchNormaliz (None, None, None, 512)   2048      \n",
            "_________________________________________________________________\n",
            "conv_pw_11_relu (ReLU)       (None, None, None, 512)   0         \n",
            "_________________________________________________________________\n",
            "conv_pad_12 (ZeroPadding2D)  (None, None, None, 512)   0         \n",
            "_________________________________________________________________\n",
            "conv_dw_12 (DepthwiseConv2D) (None, None, None, 512)   4608      \n",
            "_________________________________________________________________\n",
            "conv_dw_12_bn (BatchNormaliz (None, None, None, 512)   2048      \n",
            "_________________________________________________________________\n",
            "conv_dw_12_relu (ReLU)       (None, None, None, 512)   0         \n",
            "_________________________________________________________________\n",
            "conv_pw_12 (Conv2D)          (None, None, None, 1024)  524288    \n",
            "_________________________________________________________________\n",
            "conv_pw_12_bn (BatchNormaliz (None, None, None, 1024)  4096      \n",
            "_________________________________________________________________\n",
            "conv_pw_12_relu (ReLU)       (None, None, None, 1024)  0         \n",
            "_________________________________________________________________\n",
            "conv_dw_13 (DepthwiseConv2D) (None, None, None, 1024)  9216      \n",
            "_________________________________________________________________\n",
            "conv_dw_13_bn (BatchNormaliz (None, None, None, 1024)  4096      \n",
            "_________________________________________________________________\n",
            "conv_dw_13_relu (ReLU)       (None, None, None, 1024)  0         \n",
            "_________________________________________________________________\n",
            "conv_pw_13 (Conv2D)          (None, None, None, 1024)  1048576   \n",
            "_________________________________________________________________\n",
            "conv_pw_13_bn (BatchNormaliz (None, None, None, 1024)  4096      \n",
            "_________________________________________________________________\n",
            "conv_pw_13_relu (ReLU)       (None, None, None, 1024)  0         \n",
            "_________________________________________________________________\n",
            "global_average_pooling2d_23  (None, 1024)              0         \n",
            "_________________________________________________________________\n",
            "dropout_23 (Dropout)         (None, 1024)              0         \n",
            "_________________________________________________________________\n",
            "batch_normalization_23 (Batc (None, 1024)              4096      \n",
            "_________________________________________________________________\n",
            "dense_46 (Dense)             (None, 500)               512500    \n",
            "_________________________________________________________________\n",
            "dense_47 (Dense)             (None, 5)                 2505      \n",
            "=================================================================\n",
            "Total params: 3,747,965\n",
            "Trainable params: 3,724,029\n",
            "Non-trainable params: 23,936\n",
            "_________________________________________________________________\n"
          ],
          "name": "stdout"
        }
      ]
    },
    {
      "cell_type": "code",
      "metadata": {
        "id": "6gVx0PzEF5p2"
      },
      "source": [
        "es = EarlyStopping(monitor='val_loss',\n",
        "                   patience=5,\n",
        "                   mode='auto',\n",
        "                   restore_best_weights=True)\n",
        "checkpoint = ModelCheckpoint('best_weight_scene_mobileNet.h5',\n",
        "                             monitor='val_accuracy',\n",
        "                             verbose=1,\n",
        "                             save_best_only=True,\n",
        "                             mode='auto',)\n"
      ],
      "execution_count": null,
      "outputs": []
    },
    {
      "cell_type": "code",
      "metadata": {
        "id": "Mi_tPO_nLzGL"
      },
      "source": [
        "es = EarlyStopping(monitor='val_loss',\n",
        "                   patience=5,\n",
        "                   mode='auto',\n",
        "                   restore_best_weights=True)\n",
        "checkpoint = ModelCheckpoint('best_weight_scene_mobileNet.h5',\n",
        "                             monitor='val_accuracy',\n",
        "                             verbose=1,\n",
        "                             save_best_only=True,\n",
        "                             mode='auto',)"
      ],
      "execution_count": null,
      "outputs": []
    },
    {
      "cell_type": "code",
      "metadata": {
        "id": "hzdddCuoL3V_"
      },
      "source": [
        "from keras.models import Sequential\n",
        "from keras.layers.core import Flatten\n",
        "from keras.layers.core import Dense\n",
        "\n",
        "model = Sequential(\n",
        "    [\n",
        "        Flatten(input_shape=(224*224*3,)),\n",
        "        Dense(100, activation=\"relu\", name=\"layer1\"),\n",
        "        Dense(16, activation=\"relu\", name=\"layer2\"),\n",
        "        Dense(16, activation=\"relu\", name=\"layer3\"),\n",
        "        Dense(3, activation = \"softmax\", name=\"layer4\"),\n",
        "    ]\n",
        ")"
      ],
      "execution_count": null,
      "outputs": []
    },
    {
      "cell_type": "code",
      "metadata": {
        "scrolled": true,
        "id": "ggcSdj_aVGCB",
        "colab": {
          "base_uri": "https://localhost:8080/"
        },
        "outputId": "43d31f95-b66b-4e96-df29-b0314a70e40c"
      },
      "source": [
        "# train the model using the Adam optimizer\n",
        "print(\"[INFO] training network...\")\n",
        "opt = Adam(lr=1e-3, decay=1e-3 / 50)\n",
        "model.compile(loss=\"categorical_crossentropy\", optimizer=opt,\n",
        "\tmetrics=[\"accuracy\"])\n",
        "H = model.fit(trainX, trainY, validation_data=(testX, testY), epochs=50, batch_size=32, callbacks=[es, checkpoint])"
      ],
      "execution_count": null,
      "outputs": [
        {
          "output_type": "stream",
          "text": [
            "[INFO] training network...\n",
            "Epoch 1/50\n",
            "WARNING:tensorflow:Model was constructed with shape (None, 150528) for input Tensor(\"flatten_20_input:0\", shape=(None, 150528), dtype=float32), but it was called on an input with incompatible shape (None, 224, 224, 3).\n",
            "WARNING:tensorflow:Model was constructed with shape (None, 150528) for input Tensor(\"flatten_20_input:0\", shape=(None, 150528), dtype=float32), but it was called on an input with incompatible shape (None, 224, 224, 3).\n",
            "8/8 [==============================] - ETA: 0s - loss: 16.5992 - accuracy: 0.3156WARNING:tensorflow:Model was constructed with shape (None, 150528) for input Tensor(\"flatten_20_input:0\", shape=(None, 150528), dtype=float32), but it was called on an input with incompatible shape (None, 224, 224, 3).\n",
            "\n",
            "Epoch 00001: val_accuracy improved from -inf to 0.35238, saving model to best_weight_scene_mobileNet.h5\n",
            "8/8 [==============================] - 3s 326ms/step - loss: 16.5992 - accuracy: 0.3156 - val_loss: 30.2897 - val_accuracy: 0.3524\n",
            "Epoch 2/50\n",
            "8/8 [==============================] - ETA: 0s - loss: 31.0012 - accuracy: 0.3320\n",
            "Epoch 00002: val_accuracy improved from 0.35238 to 0.40000, saving model to best_weight_scene_mobileNet.h5\n",
            "8/8 [==============================] - 2s 256ms/step - loss: 31.0012 - accuracy: 0.3320 - val_loss: 13.0768 - val_accuracy: 0.4000\n",
            "Epoch 3/50\n",
            "8/8 [==============================] - ETA: 0s - loss: 11.6908 - accuracy: 0.4303\n",
            "Epoch 00003: val_accuracy improved from 0.40000 to 0.49524, saving model to best_weight_scene_mobileNet.h5\n",
            "8/8 [==============================] - 2s 206ms/step - loss: 11.6908 - accuracy: 0.4303 - val_loss: 4.5807 - val_accuracy: 0.4952\n",
            "Epoch 4/50\n",
            "8/8 [==============================] - ETA: 0s - loss: 3.5110 - accuracy: 0.4467\n",
            "Epoch 00004: val_accuracy did not improve from 0.49524\n",
            "8/8 [==============================] - 1s 112ms/step - loss: 3.5110 - accuracy: 0.4467 - val_loss: 2.9890 - val_accuracy: 0.4286\n",
            "Epoch 5/50\n",
            "8/8 [==============================] - ETA: 0s - loss: 2.2186 - accuracy: 0.4631\n",
            "Epoch 00005: val_accuracy did not improve from 0.49524\n",
            "8/8 [==============================] - 1s 109ms/step - loss: 2.2186 - accuracy: 0.4631 - val_loss: 1.9699 - val_accuracy: 0.3524\n",
            "Epoch 6/50\n",
            "8/8 [==============================] - ETA: 0s - loss: 1.5370 - accuracy: 0.4713\n",
            "Epoch 00006: val_accuracy improved from 0.49524 to 0.60000, saving model to best_weight_scene_mobileNet.h5\n",
            "8/8 [==============================] - 2s 201ms/step - loss: 1.5370 - accuracy: 0.4713 - val_loss: 1.3418 - val_accuracy: 0.6000\n",
            "Epoch 7/50\n",
            "8/8 [==============================] - ETA: 0s - loss: 1.0663 - accuracy: 0.6434\n",
            "Epoch 00007: val_accuracy did not improve from 0.60000\n",
            "8/8 [==============================] - 1s 111ms/step - loss: 1.0663 - accuracy: 0.6434 - val_loss: 0.9436 - val_accuracy: 0.6000\n",
            "Epoch 8/50\n",
            "8/8 [==============================] - ETA: 0s - loss: 0.8456 - accuracy: 0.7254\n",
            "Epoch 00008: val_accuracy improved from 0.60000 to 0.66667, saving model to best_weight_scene_mobileNet.h5\n",
            "8/8 [==============================] - 2s 198ms/step - loss: 0.8456 - accuracy: 0.7254 - val_loss: 0.9494 - val_accuracy: 0.6667\n",
            "Epoch 9/50\n",
            "8/8 [==============================] - ETA: 0s - loss: 0.6570 - accuracy: 0.6844\n",
            "Epoch 00009: val_accuracy improved from 0.66667 to 0.68571, saving model to best_weight_scene_mobileNet.h5\n",
            "8/8 [==============================] - 2s 250ms/step - loss: 0.6570 - accuracy: 0.6844 - val_loss: 0.7477 - val_accuracy: 0.6857\n",
            "Epoch 10/50\n",
            "8/8 [==============================] - ETA: 0s - loss: 0.7332 - accuracy: 0.7090\n",
            "Epoch 00010: val_accuracy improved from 0.68571 to 0.71429, saving model to best_weight_scene_mobileNet.h5\n",
            "8/8 [==============================] - 2s 198ms/step - loss: 0.7332 - accuracy: 0.7090 - val_loss: 0.8410 - val_accuracy: 0.7143\n",
            "Epoch 11/50\n",
            "8/8 [==============================] - ETA: 0s - loss: 0.6528 - accuracy: 0.7131\n",
            "Epoch 00011: val_accuracy improved from 0.71429 to 0.74286, saving model to best_weight_scene_mobileNet.h5\n",
            "8/8 [==============================] - 2s 209ms/step - loss: 0.6528 - accuracy: 0.7131 - val_loss: 0.7056 - val_accuracy: 0.7429\n",
            "Epoch 12/50\n",
            "8/8 [==============================] - ETA: 0s - loss: 0.5321 - accuracy: 0.7377\n",
            "Epoch 00012: val_accuracy did not improve from 0.74286\n",
            "8/8 [==============================] - 1s 113ms/step - loss: 0.5321 - accuracy: 0.7377 - val_loss: 0.9831 - val_accuracy: 0.6095\n",
            "Epoch 13/50\n",
            "8/8 [==============================] - ETA: 0s - loss: 0.4321 - accuracy: 0.7910\n",
            "Epoch 00013: val_accuracy did not improve from 0.74286\n",
            "8/8 [==============================] - 1s 106ms/step - loss: 0.4321 - accuracy: 0.7910 - val_loss: 0.7493 - val_accuracy: 0.7238\n",
            "Epoch 14/50\n",
            "8/8 [==============================] - ETA: 0s - loss: 0.4147 - accuracy: 0.8279\n",
            "Epoch 00014: val_accuracy did not improve from 0.74286\n",
            "8/8 [==============================] - 1s 104ms/step - loss: 0.4147 - accuracy: 0.8279 - val_loss: 0.9297 - val_accuracy: 0.6667\n",
            "Epoch 15/50\n",
            "8/8 [==============================] - ETA: 0s - loss: 0.4106 - accuracy: 0.8238\n",
            "Epoch 00015: val_accuracy did not improve from 0.74286\n",
            "8/8 [==============================] - 1s 104ms/step - loss: 0.4106 - accuracy: 0.8238 - val_loss: 0.8324 - val_accuracy: 0.7333\n",
            "Epoch 16/50\n",
            "8/8 [==============================] - ETA: 0s - loss: 0.3125 - accuracy: 0.8893\n",
            "Epoch 00016: val_accuracy did not improve from 0.74286\n",
            "8/8 [==============================] - 1s 104ms/step - loss: 0.3125 - accuracy: 0.8893 - val_loss: 0.7288 - val_accuracy: 0.7238\n"
          ],
          "name": "stdout"
        }
      ]
    },
    {
      "cell_type": "code",
      "metadata": {
        "id": "98_oXi-lcgux",
        "colab": {
          "base_uri": "https://localhost:8080/",
          "height": 590
        },
        "outputId": "10173034-edc8-4085-d2a6-8ae4e25de8b0"
      },
      "source": [
        "import matplotlib.pyplot as plt\n",
        "\n",
        "print(H.history.keys())\n",
        "# summarize history for accuracy\n",
        "plt.plot(H.history['accuracy'])\n",
        "plt.plot(H.history['val_accuracy'])\n",
        "plt.title('model accuracy')\n",
        "plt.ylabel('accuracy')\n",
        "plt.xlabel('epoch')\n",
        "plt.legend(['train', 'test'], loc='upper left')\n",
        "plt.show()\n",
        "# summarize history for loss\n",
        "plt.plot(H.history['loss'])\n",
        "plt.plot(H.history['val_loss'])\n",
        "plt.title('model loss')\n",
        "plt.ylabel('loss')\n",
        "plt.xlabel('epoch')\n",
        "plt.legend(['train', 'test'], loc='upper left')\n",
        "plt.show()"
      ],
      "execution_count": null,
      "outputs": [
        {
          "output_type": "stream",
          "text": [
            "dict_keys(['loss', 'accuracy', 'val_loss', 'val_accuracy'])\n"
          ],
          "name": "stdout"
        },
        {
          "output_type": "display_data",
          "data": {
            "image/png": "[encoded data removed]",
            "text/plain": [
              "<Figure size 432x288 with 1 Axes>"
            ]
          },
          "metadata": {
            "tags": [],
            "needs_background": "light"
          }
        },
        {
          "output_type": "display_data",
          "data": {
            "image/png": "[encoded data removed]",
            "text/plain": [
              "<Figure size 432x288 with 1 Axes>"
            ]
          },
          "metadata": {
            "tags": [],
            "needs_background": "light"
          }
        }
      ]
    },
    {
      "cell_type": "code",
      "metadata": {
        "id": "lPAZkmBJVGCD",
        "colab": {
          "base_uri": "https://localhost:8080/"
        },
        "outputId": "bd5e5be4-26d0-4bf6-8fa1-e1fccd7a3084"
      },
      "source": [
        "# evaluate the network\n",
        "print(\"[INFO] evaluating network...\")\n",
        "predictions = model.predict(testX, batch_size=32)\n",
        "print(predictions)"
      ],
      "execution_count": null,
      "outputs": [
        {
          "output_type": "stream",
          "text": [
            "[INFO] evaluating network...\n",
            "WARNING:tensorflow:Model was constructed with shape (None, 150528) for input Tensor(\"flatten_20_input:0\", shape=(None, 150528), dtype=float32), but it was called on an input with incompatible shape (None, 224, 224, 3).\n",
            "[[9.8634038e-05 1.2993194e-01 8.6996943e-01]\n",
            " [1.1641075e-06 8.4997457e-01 1.5002428e-01]\n",
            " [2.2715647e-10 1.8035014e-01 8.1964988e-01]\n",
            " [4.3821061e-01 4.0993541e-01 1.5185399e-01]\n",
            " [9.6729428e-13 6.9472663e-02 9.3052733e-01]\n",
            " [2.7576828e-01 6.7611414e-01 4.8117522e-02]\n",
            " [1.4011532e-01 1.8264100e-01 6.7724371e-01]\n",
            " [8.1336188e-11 3.8218360e-02 9.6178168e-01]\n",
            " [6.5424949e-01 3.2241625e-01 2.3334201e-02]\n",
            " [1.5197568e-01 7.4886137e-01 9.9162944e-02]\n",
            " [6.4697164e-11 3.1660363e-01 6.8339640e-01]\n",
            " [9.7983447e-04 8.7355101e-01 1.2546922e-01]\n",
            " [6.0556459e-01 2.9348946e-01 1.0094591e-01]\n",
            " [6.8885336e-12 7.7264346e-02 9.2273563e-01]\n",
            " [2.3854382e-05 2.2916701e-01 7.7080917e-01]\n",
            " [2.4377486e-10 1.0744161e-02 9.8925591e-01]\n",
            " [3.4180528e-05 3.4159741e-01 6.5836841e-01]\n",
            " [9.9449229e-01 5.5075441e-03 2.0468576e-07]\n",
            " [1.3005068e-04 1.2479850e-01 8.7507141e-01]\n",
            " [1.3367498e-09 4.9597752e-01 5.0402254e-01]\n",
            " [1.6445632e-01 6.3366359e-01 2.0188002e-01]\n",
            " [4.0986910e-01 3.7747821e-01 2.1265271e-01]\n",
            " [2.0258835e-11 1.2941778e-01 8.7058222e-01]\n",
            " [1.1324688e-01 7.7690721e-01 1.0984599e-01]\n",
            " [9.6478127e-03 3.5119426e-01 6.3915795e-01]\n",
            " [1.0471312e-01 7.9639399e-01 9.8892979e-02]\n",
            " [3.3675373e-01 6.2030703e-01 4.2939208e-02]\n",
            " [3.7392148e-01 5.1142555e-01 1.1465291e-01]\n",
            " [8.0749862e-02 6.4085895e-01 2.7839115e-01]\n",
            " [7.4110234e-01 2.5096226e-01 7.9353154e-03]\n",
            " [9.7266430e-01 2.7329428e-02 6.2969607e-06]\n",
            " [5.8415489e-10 3.9642045e-01 6.0357958e-01]\n",
            " [6.0397089e-01 3.6372575e-01 3.2303315e-02]\n",
            " [5.9027411e-02 8.0130070e-01 1.3967183e-01]\n",
            " [3.4717169e-01 6.4630020e-01 6.5281377e-03]\n",
            " [3.7265030e-01 5.8443910e-01 4.2910583e-02]\n",
            " [1.0687718e-04 2.9572323e-01 7.0416987e-01]\n",
            " [7.5898504e-01 2.3966029e-01 1.3546102e-03]\n",
            " [2.3023543e-04 4.5653512e-03 9.9520445e-01]\n",
            " [6.3118416e-01 3.4223154e-01 2.6584262e-02]\n",
            " [6.3380033e-01 3.4210008e-01 2.4099505e-02]\n",
            " [5.6698745e-01 4.2574883e-01 7.2636390e-03]\n",
            " [2.7029444e-02 5.3174669e-01 4.4122383e-01]\n",
            " [3.7999387e-05 2.5703779e-01 7.4292415e-01]\n",
            " [4.0911857e-02 4.3796867e-01 5.2111948e-01]\n",
            " [6.6235222e-02 3.5116407e-01 5.8260071e-01]\n",
            " [1.7006369e-01 6.1490893e-01 2.1502739e-01]\n",
            " [2.8202720e-12 2.2719729e-01 7.7280271e-01]\n",
            " [2.2013681e-03 1.4681862e-01 8.5098004e-01]\n",
            " [9.3017927e-11 4.8411056e-02 9.5158899e-01]\n",
            " [3.7225187e-02 2.3117183e-01 7.3160297e-01]\n",
            " [1.0556968e-04 1.5165854e-01 8.4823585e-01]\n",
            " [2.9616777e-03 1.6802563e-01 8.2901269e-01]\n",
            " [1.4520343e-05 7.5857294e-01 2.4141252e-01]\n",
            " [2.3700736e-01 6.9734251e-01 6.5650076e-02]\n",
            " [4.4528157e-01 5.0110018e-01 5.3618241e-02]\n",
            " [6.8044388e-01 2.8455290e-01 3.5003260e-02]\n",
            " [9.3493867e-01 6.4878970e-02 1.8234573e-04]\n",
            " [6.1610762e-02 6.0243303e-01 3.3595616e-01]\n",
            " [1.2535916e-01 6.3915706e-01 2.3548371e-01]\n",
            " [1.3440784e-11 3.3927709e-02 9.6607232e-01]\n",
            " [2.8132312e-09 8.4106219e-01 1.5893775e-01]\n",
            " [3.6858296e-04 8.5088110e-01 1.4875031e-01]\n",
            " [1.7387625e-02 6.7647749e-01 3.0613488e-01]\n",
            " [8.1732863e-01 1.7510073e-01 7.5706765e-03]\n",
            " [8.7644136e-01 1.2335870e-01 1.9993220e-04]\n",
            " [2.1529797e-06 3.4482783e-01 6.5517002e-01]\n",
            " [2.4702627e-05 6.0400450e-01 3.9597079e-01]\n",
            " [9.5528412e-01 4.4162240e-02 5.5360963e-04]\n",
            " [8.2258075e-02 4.4290537e-01 4.7483650e-01]\n",
            " [6.4508730e-01 3.4535488e-01 9.5577966e-03]\n",
            " [3.8881496e-02 6.2375426e-01 3.3736417e-01]\n",
            " [1.7288088e-05 4.8935968e-01 5.1062304e-01]\n",
            " [1.4073990e-03 9.4980590e-02 9.0361202e-01]\n",
            " [6.0088448e-02 7.5441474e-01 1.8549682e-01]\n",
            " [6.5214920e-01 3.3790490e-01 9.9458611e-03]\n",
            " [4.3978080e-02 1.7119563e-01 7.8482628e-01]\n",
            " [6.6812778e-01 2.8014207e-01 5.1730219e-02]\n",
            " [1.1802175e-01 7.8990734e-01 9.2070892e-02]\n",
            " [2.3723692e-02 4.7489533e-01 5.0138092e-01]\n",
            " [5.5349535e-01 4.3167642e-01 1.4828231e-02]\n",
            " [7.3774827e-01 2.3970741e-01 2.2544373e-02]\n",
            " [7.4928252e-08 2.1989715e-01 7.8010285e-01]\n",
            " [3.8400319e-01 4.8681074e-01 1.2918603e-01]\n",
            " [1.8626582e-09 1.0094161e-01 8.9905840e-01]\n",
            " [1.1283259e-09 4.8069769e-01 5.1930231e-01]\n",
            " [7.1771862e-03 1.9561119e-01 7.9721159e-01]\n",
            " [3.8876096e-04 7.1045244e-01 2.8915885e-01]\n",
            " [1.6821922e-01 6.6216004e-01 1.6962075e-01]\n",
            " [5.5355895e-06 2.9779524e-01 7.0219922e-01]\n",
            " [7.4524641e-02 8.5535908e-01 7.0116326e-02]\n",
            " [2.1440157e-04 1.0637619e-01 8.9340943e-01]\n",
            " [3.3184397e-01 5.8262432e-01 8.5531712e-02]\n",
            " [5.8848077e-01 3.8951439e-01 2.2004845e-02]\n",
            " [1.4895966e-08 8.8346982e-01 1.1653013e-01]\n",
            " [8.6548531e-01 1.3423927e-01 2.7547116e-04]\n",
            " [5.4343659e-01 4.4908002e-01 7.4833496e-03]\n",
            " [1.4870964e-01 7.6967037e-01 8.1619926e-02]\n",
            " [1.2092829e-09 4.9468055e-01 5.0531936e-01]\n",
            " [8.5376903e-02 5.2149284e-01 3.9313021e-01]\n",
            " [2.8449386e-01 6.6982716e-01 4.5678917e-02]\n",
            " [9.9656576e-01 3.4341700e-03 1.2390029e-07]\n",
            " [3.6759514e-01 5.0533396e-01 1.2707092e-01]\n",
            " [4.2501409e-03 3.2379934e-01 6.7195046e-01]\n",
            " [3.3083889e-01 6.5785384e-01 1.1307306e-02]]\n"
          ],
          "name": "stdout"
        }
      ]
    },
    {
      "cell_type": "code",
      "metadata": {
        "colab": {
          "base_uri": "https://localhost:8080/"
        },
        "id": "rYuFLTPe782v",
        "outputId": "b04ca204-ac04-4872-f29f-cf5ee2e2f9be"
      },
      "source": [
        "print(classification_report(testY.argmax(axis=1),\n",
        "\tpredictions.argmax(axis=1), target_names=lb.classes_))"
      ],
      "execution_count": null,
      "outputs": [
        {
          "output_type": "stream",
          "text": [
            "              precision    recall  f1-score   support\n",
            "\n",
            "      GMB_03       0.92      0.65      0.76        37\n",
            "      GMB_04       0.66      0.69      0.68        36\n",
            "      GMB_09       0.71      0.91      0.79        32\n",
            "\n",
            "    accuracy                           0.74       105\n",
            "   macro avg       0.76      0.75      0.74       105\n",
            "weighted avg       0.77      0.74      0.74       105\n",
            "\n"
          ],
          "name": "stdout"
        }
      ]
    },
    {
      "cell_type": "code",
      "metadata": {
        "id": "4uBcj8x8iwTw",
        "colab": {
          "base_uri": "https://localhost:8080/"
        },
        "outputId": "42c51283-0111-4270-987b-2adff5f565eb"
      },
      "source": [
        "model.save('nnmodel_scene')"
      ],
      "execution_count": null,
      "outputs": [
        {
          "output_type": "stream",
          "text": [
            "WARNING:tensorflow:From /usr/local/lib/python3.6/dist-packages/tensorflow/python/training/tracking/tracking.py:111: Model.state_updates (from tensorflow.python.keras.engine.training) is deprecated and will be removed in a future version.\n",
            "Instructions for updating:\n",
            "This property should not be used in TensorFlow 2.0, as updates are applied automatically.\n",
            "WARNING:tensorflow:From /usr/local/lib/python3.6/dist-packages/tensorflow/python/training/tracking/tracking.py:111: Layer.updates (from tensorflow.python.keras.engine.base_layer) is deprecated and will be removed in a future version.\n",
            "Instructions for updating:\n",
            "This property should not be used in TensorFlow 2.0, as updates are applied automatically.\n",
            "INFO:tensorflow:Assets written to: nnmodel_scene/assets\n"
          ],
          "name": "stdout"
        }
      ]
    },
    {
      "cell_type": "code",
      "metadata": {
        "id": "AOwJT2jLVGCN"
      },
      "source": [
        "import cv2\n",
        "import matplotlib.pyplot as plt\n",
        "image1='daun9_test.jpg'"
      ],
      "execution_count": null,
      "outputs": []
    },
    {
      "cell_type": "code",
      "metadata": {
        "id": "PkM68K4GVGCP",
        "colab": {
          "base_uri": "https://localhost:8080/",
          "height": 269
        },
        "outputId": "b8f2848c-26c2-4457-d7f9-da04ecebd2d6"
      },
      "source": [
        "img_array = cv2.imread(image1)\n",
        "plt.imshow(img_array)\n",
        "plt.show()\n",
        "# print(type(img_array))"
      ],
      "execution_count": null,
      "outputs": [
        {
          "output_type": "display_data",
          "data": {
            "image/png": "[encoded data removed]",
            "text/plain": [
              "<Figure size 432x288 with 1 Axes>"
            ]
          },
          "metadata": {
            "tags": [],
            "needs_background": "light"
          }
        }
      ]
    },
    {
      "cell_type": "code",
      "metadata": {
        "id": "1ZkNY8LWVGCR",
        "colab": {
          "base_uri": "https://localhost:8080/"
        },
        "outputId": "6a03afbb-7fcc-44fb-cb9b-661c6ce27340"
      },
      "source": [
        "image_testing = Image.open('daunnon_test.jpg')\n",
        "image_testing = np.array(image_testing.resize((224,224))) / 255.0\n",
        "image_testing.shape"
      ],
      "execution_count": null,
      "outputs": [
        {
          "output_type": "execute_result",
          "data": {
            "text/plain": [
              "(224, 224, 3)"
            ]
          },
          "metadata": {
            "tags": []
          },
          "execution_count": 239
        }
      ]
    },
    {
      "cell_type": "code",
      "metadata": {
        "id": "qL66nfOcVGCT",
        "colab": {
          "base_uri": "https://localhost:8080/"
        },
        "outputId": "5ddef1f6-de18-489b-d611-5fe1657a21a9"
      },
      "source": [
        "image_testing = np.expand_dims(image_testing, axis=0)\n",
        "print(image_testing.shape)"
      ],
      "execution_count": null,
      "outputs": [
        {
          "output_type": "stream",
          "text": [
            "(1, 224, 224, 3)\n"
          ],
          "name": "stdout"
        }
      ]
    },
    {
      "cell_type": "code",
      "metadata": {
        "id": "vTy9yP1AVGCV",
        "colab": {
          "base_uri": "https://localhost:8080/"
        },
        "outputId": "035624ff-83e9-417d-e104-82176864ad14"
      },
      "source": [
        "output = model.predict(image_testing, 1)\n",
        "print(output)\n",
        "print(lb.classes_[output.argmax(axis=1)])"
      ],
      "execution_count": null,
      "outputs": [
        {
          "output_type": "stream",
          "text": [
            "WARNING:tensorflow:Model was constructed with shape (None, 150528) for input Tensor(\"flatten_20_input:0\", shape=(None, 150528), dtype=float32), but it was called on an input with incompatible shape (1, 224, 224, 3).\n",
            "[[3.5823199e-05 2.4495557e-01 7.5500864e-01]]\n",
            "['GMB_09']\n"
          ],
          "name": "stdout"
        }
      ]
    },
    {
      "cell_type": "code",
      "metadata": {
        "id": "cu5SSxXyiOs3"
      },
      "source": [
        ""
      ],
      "execution_count": null,
      "outputs": []
    }
  ]
}